{
 "cells": [
  {
   "cell_type": "markdown",
   "id": "011dd4b8",
   "metadata": {},
   "source": [
    "#### Try Except"
   ]
  },
  {
   "cell_type": "code",
   "execution_count": 1,
   "id": "8df2baff",
   "metadata": {},
   "outputs": [
    {
     "data": {
      "text/plain": [
       "0.5"
      ]
     },
     "execution_count": 1,
     "metadata": {},
     "output_type": "execute_result"
    }
   ],
   "source": [
    "a = 5\n",
    "a/10"
   ]
  },
  {
   "cell_type": "code",
   "execution_count": 2,
   "id": "9a91c071",
   "metadata": {},
   "outputs": [
    {
     "ename": "ZeroDivisionError",
     "evalue": "division by zero",
     "output_type": "error",
     "traceback": [
      "\u001b[1;31m---------------------------------------------------------------------------\u001b[0m",
      "\u001b[1;31mZeroDivisionError\u001b[0m                         Traceback (most recent call last)",
      "\u001b[1;32m~\\AppData\\Local\\Temp/ipykernel_11012/4102073204.py\u001b[0m in \u001b[0;36m<module>\u001b[1;34m\u001b[0m\n\u001b[1;32m----> 1\u001b[1;33m \u001b[0ma\u001b[0m\u001b[1;33m/\u001b[0m\u001b[1;36m0\u001b[0m\u001b[1;33m\u001b[0m\u001b[1;33m\u001b[0m\u001b[0m\n\u001b[0m",
      "\u001b[1;31mZeroDivisionError\u001b[0m: division by zero"
     ]
    }
   ],
   "source": [
    "a/0"
   ]
  },
  {
   "cell_type": "code",
   "execution_count": null,
   "id": "39323bcf",
   "metadata": {},
   "outputs": [],
   "source": [
    "a/0\n",
    "print(\"this is my prog\")"
   ]
  },
  {
   "cell_type": "code",
   "execution_count": 3,
   "id": "579c93f1",
   "metadata": {},
   "outputs": [
    {
     "name": "stdout",
     "output_type": "stream",
     "text": [
      "\n"
     ]
    },
    {
     "ename": "ValueError",
     "evalue": "invalid literal for int() with base 10: ''",
     "output_type": "error",
     "traceback": [
      "\u001b[1;31m---------------------------------------------------------------------------\u001b[0m",
      "\u001b[1;31mValueError\u001b[0m                                Traceback (most recent call last)",
      "\u001b[1;32m~\\AppData\\Local\\Temp/ipykernel_11012/4083926819.py\u001b[0m in \u001b[0;36m<module>\u001b[1;34m\u001b[0m\n\u001b[0;32m      1\u001b[0m \u001b[0ma\u001b[0m \u001b[1;33m=\u001b[0m \u001b[1;36m5\u001b[0m\u001b[1;33m\u001b[0m\u001b[1;33m\u001b[0m\u001b[0m\n\u001b[1;32m----> 2\u001b[1;33m \u001b[0mb\u001b[0m \u001b[1;33m=\u001b[0m \u001b[0mint\u001b[0m\u001b[1;33m(\u001b[0m\u001b[0minput\u001b[0m\u001b[1;33m(\u001b[0m\u001b[1;33m)\u001b[0m\u001b[1;33m)\u001b[0m\u001b[1;33m\u001b[0m\u001b[1;33m\u001b[0m\u001b[0m\n\u001b[0m\u001b[0;32m      3\u001b[0m \u001b[0ma\u001b[0m\u001b[1;33m/\u001b[0m\u001b[0mb\u001b[0m\u001b[1;33m\u001b[0m\u001b[1;33m\u001b[0m\u001b[0m\n",
      "\u001b[1;31mValueError\u001b[0m: invalid literal for int() with base 10: ''"
     ]
    }
   ],
   "source": [
    "a = 5\n",
    "b = int(input())\n",
    "a/b"
   ]
  },
  {
   "cell_type": "code",
   "execution_count": 4,
   "id": "8984c408",
   "metadata": {},
   "outputs": [
    {
     "ename": "UnsupportedOperation",
     "evalue": "not writable",
     "output_type": "error",
     "traceback": [
      "\u001b[1;31m---------------------------------------------------------------------------\u001b[0m",
      "\u001b[1;31mUnsupportedOperation\u001b[0m                      Traceback (most recent call last)",
      "\u001b[1;32m~\\AppData\\Local\\Temp/ipykernel_11012/2555829.py\u001b[0m in \u001b[0;36m<module>\u001b[1;34m\u001b[0m\n\u001b[0;32m      1\u001b[0m \u001b[0mf\u001b[0m \u001b[1;33m=\u001b[0m \u001b[0mopen\u001b[0m\u001b[1;33m(\u001b[0m\u001b[1;34m\"test.txt\"\u001b[0m\u001b[1;33m,\u001b[0m\u001b[1;34m\"r\"\u001b[0m\u001b[1;33m)\u001b[0m\u001b[1;33m\u001b[0m\u001b[1;33m\u001b[0m\u001b[0m\n\u001b[1;32m----> 2\u001b[1;33m \u001b[0mf\u001b[0m\u001b[1;33m.\u001b[0m\u001b[0mwrite\u001b[0m\u001b[1;33m(\u001b[0m\u001b[1;34m\"dsgdf dfgfdg dsfgdg\"\u001b[0m\u001b[1;33m)\u001b[0m\u001b[1;33m\u001b[0m\u001b[1;33m\u001b[0m\u001b[0m\n\u001b[0m",
      "\u001b[1;31mUnsupportedOperation\u001b[0m: not writable"
     ]
    }
   ],
   "source": [
    "f = open(\"test.txt\",\"r\")\n",
    "f.write(\"dsgdf dfgfdg dsfgdg\")"
   ]
  },
  {
   "cell_type": "code",
   "execution_count": 5,
   "id": "822ee014",
   "metadata": {},
   "outputs": [
    {
     "ename": "SyntaxError",
     "evalue": "unexpected EOF while parsing (Temp/ipykernel_11012/3583211938.py, line 3)",
     "output_type": "error",
     "traceback": [
      "\u001b[1;36m  File \u001b[1;32m\"C:\\Users\\thevk\\AppData\\Local\\Temp/ipykernel_11012/3583211938.py\"\u001b[1;36m, line \u001b[1;32m3\u001b[0m\n\u001b[1;33m    f.write(\"fsds\")\u001b[0m\n\u001b[1;37m                   ^\u001b[0m\n\u001b[1;31mSyntaxError\u001b[0m\u001b[1;31m:\u001b[0m unexpected EOF while parsing\n"
     ]
    }
   ],
   "source": [
    "try:\n",
    "    f = open(\"test.txt\",\"r\")\n",
    "    f.write(\"fsds\")"
   ]
  },
  {
   "cell_type": "code",
   "execution_count": 6,
   "id": "6324f453",
   "metadata": {},
   "outputs": [
    {
     "name": "stdout",
     "output_type": "stream",
     "text": [
      "there was mistake\n"
     ]
    }
   ],
   "source": [
    "try:\n",
    "    f = open(\"test.txt\",\"r\")\n",
    "    f.write(\"fsds\")\n",
    "except:\n",
    "    print(\"there was mistake\")"
   ]
  },
  {
   "cell_type": "code",
   "execution_count": 7,
   "id": "d0ce702f",
   "metadata": {},
   "outputs": [
    {
     "name": "stdout",
     "output_type": "stream",
     "text": [
      "there was mistake\n",
      "this is my code\n"
     ]
    }
   ],
   "source": [
    "try:\n",
    "    f = open(\"test.txt\",\"r\")\n",
    "    f.write(\"fsds\")\n",
    "except:\n",
    "    print(\"there was mistake\")\n",
    "print(\"this is my code\")    "
   ]
  },
  {
   "cell_type": "code",
   "execution_count": 8,
   "id": "c93ebdc1",
   "metadata": {},
   "outputs": [
    {
     "ename": "SyntaxError",
     "evalue": "invalid syntax (Temp/ipykernel_11012/842605237.py, line 2)",
     "output_type": "error",
     "traceback": [
      "\u001b[1;36m  File \u001b[1;32m\"C:\\Users\\thevk\\AppData\\Local\\Temp/ipykernel_11012/842605237.py\"\u001b[1;36m, line \u001b[1;32m2\u001b[0m\n\u001b[1;33m    for i range(len(l)):\u001b[0m\n\u001b[1;37m          ^\u001b[0m\n\u001b[1;31mSyntaxError\u001b[0m\u001b[1;31m:\u001b[0m invalid syntax\n"
     ]
    }
   ],
   "source": [
    "l = [4,5,6,7,8,9,0]\n",
    "for i range(len(l)):\n",
    "    print(l)"
   ]
  },
  {
   "cell_type": "code",
   "execution_count": 9,
   "id": "302efc57",
   "metadata": {},
   "outputs": [
    {
     "ename": "SyntaxError",
     "evalue": "invalid syntax (Temp/ipykernel_11012/1320089355.py, line 5)",
     "output_type": "error",
     "traceback": [
      "\u001b[1;36m  File \u001b[1;32m\"C:\\Users\\thevk\\AppData\\Local\\Temp/ipykernel_11012/1320089355.py\"\u001b[1;36m, line \u001b[1;32m5\u001b[0m\n\u001b[1;33m    for i range(len(l)):\u001b[0m\n\u001b[1;37m          ^\u001b[0m\n\u001b[1;31mSyntaxError\u001b[0m\u001b[1;31m:\u001b[0m invalid syntax\n"
     ]
    }
   ],
   "source": [
    "l = [4,5,6,7,8,9,0]\n",
    "\n",
    "try:\n",
    "    \n",
    "    for i range(len(l)):\n",
    "        print(l)\n",
    "        \n",
    "except:\n",
    "    print(\"this is my code\")"
   ]
  },
  {
   "cell_type": "code",
   "execution_count": 10,
   "id": "7d95837f",
   "metadata": {},
   "outputs": [
    {
     "name": "stdout",
     "output_type": "stream",
     "text": [
      "[4, 5, 6, 7, 8, 9, 0]\n",
      "[4, 5, 6, 7, 8, 9, 0]\n",
      "[4, 5, 6, 7, 8, 9, 0]\n",
      "[4, 5, 6, 7, 8, 9, 0]\n",
      "[4, 5, 6, 7, 8, 9, 0]\n",
      "[4, 5, 6, 7, 8, 9, 0]\n",
      "[4, 5, 6, 7, 8, 9, 0]\n"
     ]
    }
   ],
   "source": [
    "l = [4,5,6,7,8,9,0]\n",
    "for i in range(len(l)):\n",
    "    print(l)"
   ]
  },
  {
   "cell_type": "code",
   "execution_count": 11,
   "id": "207a2b87",
   "metadata": {},
   "outputs": [
    {
     "name": "stdout",
     "output_type": "stream",
     "text": [
      "0\n",
      "1\n",
      "2\n",
      "3\n",
      "4\n",
      "5\n",
      "6\n",
      "7\n"
     ]
    }
   ],
   "source": [
    "l = [4,5,6,7,8,9,0]\n",
    "for i in range(len(l)+1):\n",
    "    print(i)"
   ]
  },
  {
   "cell_type": "code",
   "execution_count": 12,
   "id": "616da6ca",
   "metadata": {},
   "outputs": [
    {
     "name": "stdout",
     "output_type": "stream",
     "text": [
      "4\n",
      "5\n",
      "6\n",
      "7\n",
      "8\n",
      "9\n",
      "0\n"
     ]
    },
    {
     "ename": "IndexError",
     "evalue": "list index out of range",
     "output_type": "error",
     "traceback": [
      "\u001b[1;31m---------------------------------------------------------------------------\u001b[0m",
      "\u001b[1;31mIndexError\u001b[0m                                Traceback (most recent call last)",
      "\u001b[1;32m~\\AppData\\Local\\Temp/ipykernel_11012/2596963457.py\u001b[0m in \u001b[0;36m<module>\u001b[1;34m\u001b[0m\n\u001b[0;32m      1\u001b[0m \u001b[0ml\u001b[0m \u001b[1;33m=\u001b[0m \u001b[1;33m[\u001b[0m\u001b[1;36m4\u001b[0m\u001b[1;33m,\u001b[0m\u001b[1;36m5\u001b[0m\u001b[1;33m,\u001b[0m\u001b[1;36m6\u001b[0m\u001b[1;33m,\u001b[0m\u001b[1;36m7\u001b[0m\u001b[1;33m,\u001b[0m\u001b[1;36m8\u001b[0m\u001b[1;33m,\u001b[0m\u001b[1;36m9\u001b[0m\u001b[1;33m,\u001b[0m\u001b[1;36m0\u001b[0m\u001b[1;33m]\u001b[0m\u001b[1;33m\u001b[0m\u001b[1;33m\u001b[0m\u001b[0m\n\u001b[0;32m      2\u001b[0m \u001b[1;32mfor\u001b[0m \u001b[0mi\u001b[0m \u001b[1;32min\u001b[0m \u001b[0mrange\u001b[0m\u001b[1;33m(\u001b[0m\u001b[0mlen\u001b[0m\u001b[1;33m(\u001b[0m\u001b[0ml\u001b[0m\u001b[1;33m)\u001b[0m\u001b[1;33m+\u001b[0m\u001b[1;36m1\u001b[0m\u001b[1;33m)\u001b[0m\u001b[1;33m:\u001b[0m\u001b[1;33m\u001b[0m\u001b[1;33m\u001b[0m\u001b[0m\n\u001b[1;32m----> 3\u001b[1;33m     \u001b[0mprint\u001b[0m\u001b[1;33m(\u001b[0m\u001b[0ml\u001b[0m\u001b[1;33m[\u001b[0m\u001b[0mi\u001b[0m\u001b[1;33m]\u001b[0m\u001b[1;33m)\u001b[0m\u001b[1;33m\u001b[0m\u001b[1;33m\u001b[0m\u001b[0m\n\u001b[0m",
      "\u001b[1;31mIndexError\u001b[0m: list index out of range"
     ]
    }
   ],
   "source": [
    "l = [4,5,6,7,8,9,0]\n",
    "for i in range(len(l)+1):\n",
    "    print(l[i])"
   ]
  },
  {
   "cell_type": "code",
   "execution_count": null,
   "id": "66015c94",
   "metadata": {},
   "outputs": [],
   "source": []
  },
  {
   "cell_type": "code",
   "execution_count": 13,
   "id": "1e829d2f",
   "metadata": {},
   "outputs": [
    {
     "name": "stdout",
     "output_type": "stream",
     "text": [
      "4\n",
      "5\n",
      "6\n",
      "7\n",
      "8\n",
      "9\n",
      "0\n",
      "this is my code\n"
     ]
    }
   ],
   "source": [
    "l = [4,5,6,7,8,9,0]\n",
    "\n",
    "try:\n",
    "     for i in range(len(l)+1):\n",
    "        print(l[i])\n",
    "        \n",
    "except:\n",
    "    print(\"this is my code\")"
   ]
  },
  {
   "cell_type": "code",
   "execution_count": 14,
   "id": "32ca63a6",
   "metadata": {},
   "outputs": [
    {
     "ename": "ZeroDivisionError",
     "evalue": "division by zero",
     "output_type": "error",
     "traceback": [
      "\u001b[1;31m---------------------------------------------------------------------------\u001b[0m",
      "\u001b[1;31mZeroDivisionError\u001b[0m                         Traceback (most recent call last)",
      "\u001b[1;32m~\\AppData\\Local\\Temp/ipykernel_11012/2874912419.py\u001b[0m in \u001b[0;36m<module>\u001b[1;34m\u001b[0m\n\u001b[1;32m----> 1\u001b[1;33m \u001b[1;36m5\u001b[0m\u001b[1;33m/\u001b[0m\u001b[1;36m0\u001b[0m\u001b[1;33m\u001b[0m\u001b[1;33m\u001b[0m\u001b[0m\n\u001b[0m",
      "\u001b[1;31mZeroDivisionError\u001b[0m: division by zero"
     ]
    }
   ],
   "source": [
    "5/0"
   ]
  },
  {
   "cell_type": "code",
   "execution_count": null,
   "id": "493fc2d3",
   "metadata": {},
   "outputs": [],
   "source": []
  },
  {
   "cell_type": "code",
   "execution_count": 15,
   "id": "9e84f6c1",
   "metadata": {},
   "outputs": [
    {
     "name": "stdout",
     "output_type": "stream",
     "text": [
      "4\n",
      "5\n",
      "6\n",
      "7\n",
      "8\n",
      "9\n",
      "0\n",
      "this is my code: list index out of range\n"
     ]
    }
   ],
   "source": [
    "l = [4,5,6,7,8,9,0]\n",
    "\n",
    "try:\n",
    "     for i in range(len(l)+1):\n",
    "        print(l[i])\n",
    "        \n",
    "except Exception as e:\n",
    "    print(\"this is my code:\",e)"
   ]
  },
  {
   "cell_type": "code",
   "execution_count": null,
   "id": "6ab4a420",
   "metadata": {},
   "outputs": [],
   "source": []
  },
  {
   "cell_type": "code",
   "execution_count": 16,
   "id": "bfd38fb7",
   "metadata": {},
   "outputs": [
    {
     "name": "stdout",
     "output_type": "stream",
     "text": [
      "sudh\n",
      "invalid literal for int() with base 10: 'sudh'\n"
     ]
    }
   ],
   "source": [
    "try:\n",
    "    a = int(input())\n",
    "    b = int(input())\n",
    "    \n",
    "except Exception as e:\n",
    "    print(e)"
   ]
  },
  {
   "cell_type": "code",
   "execution_count": null,
   "id": "3e8cf067",
   "metadata": {},
   "outputs": [],
   "source": []
  },
  {
   "cell_type": "code",
   "execution_count": 19,
   "id": "5a13d718",
   "metadata": {},
   "outputs": [],
   "source": [
    "try:\n",
    "    f = open(\"test3.txt\",\"w\")\n",
    "    f.write(\"write into my file \")\n",
    "    f.close()\n",
    "except Exception as e:\n",
    "    print(\"this is my except block \", e)"
   ]
  },
  {
   "cell_type": "code",
   "execution_count": null,
   "id": "79b2ded5",
   "metadata": {},
   "outputs": [],
   "source": []
  },
  {
   "cell_type": "code",
   "execution_count": 20,
   "id": "21492625",
   "metadata": {},
   "outputs": [
    {
     "name": "stdout",
     "output_type": "stream",
     "text": [
      "this will be executed once your try wull execute without error\n"
     ]
    }
   ],
   "source": [
    "try:\n",
    "    f = open(\"test3.txt\",\"w\")\n",
    "    f.write(\"write into my file \")\n",
    "    f.close()\n",
    "except Exception as e:\n",
    "    print(\"this is my except block \", e)\n",
    "    \n",
    "else:\n",
    "    f.close()\n",
    "    print(\"this will be executed once your try wull execute without error\")"
   ]
  },
  {
   "cell_type": "code",
   "execution_count": 21,
   "id": "84d7776d",
   "metadata": {},
   "outputs": [
    {
     "name": "stdout",
     "output_type": "stream",
     "text": [
      "this is my except block  [Errno 2] No such file or directory: 'test4.txt'\n"
     ]
    }
   ],
   "source": [
    "try:\n",
    "    f = open(\"test4.txt\",\"r\")\n",
    "    f.write(\"write into my file \")\n",
    "    f.close()\n",
    "except Exception as e:\n",
    "    print(\"this is my except block \", e)\n",
    "    \n",
    "else:\n",
    "    f.close()\n",
    "    print(\"this will be executed once your try wull execute without error\")"
   ]
  },
  {
   "cell_type": "code",
   "execution_count": null,
   "id": "c9ff4c34",
   "metadata": {},
   "outputs": [],
   "source": []
  },
  {
   "cell_type": "code",
   "execution_count": 23,
   "id": "2e0c2d0e",
   "metadata": {},
   "outputs": [
    {
     "name": "stdout",
     "output_type": "stream",
     "text": [
      "finally will execute itself in any situation\n"
     ]
    }
   ],
   "source": [
    "try:\n",
    "    f = open(\"test5.txt\",'w')\n",
    "    f.write(\"write something\")\n",
    "    \n",
    "finally:\n",
    "    print(\"finally will execute itself in any situation\")"
   ]
  },
  {
   "cell_type": "markdown",
   "id": "6425da10",
   "metadata": {},
   "source": [
    "#### Custom Exception Handling"
   ]
  },
  {
   "cell_type": "code",
   "execution_count": 24,
   "id": "19f8d3b7",
   "metadata": {},
   "outputs": [
    {
     "name": "stdout",
     "output_type": "stream",
     "text": [
      "enter your age -35\n"
     ]
    }
   ],
   "source": [
    "age = int(input(\"enter your age \"))"
   ]
  },
  {
   "cell_type": "code",
   "execution_count": 31,
   "id": "601ed1b3",
   "metadata": {},
   "outputs": [],
   "source": [
    "class validateage(Exception):\n",
    "    \n",
    "    def __init__(self , msg) : \n",
    "        self.msg = msg"
   ]
  },
  {
   "cell_type": "code",
   "execution_count": 32,
   "id": "742b46fd",
   "metadata": {},
   "outputs": [],
   "source": [
    "def validaetage(age) : \n",
    "    if age < 0 :\n",
    "        raise validateage(\"entered age is negative \" )\n",
    "    elif age > 200 : \n",
    "        raise validateage(\"enterd age is very very high \" )\n",
    "    else :\n",
    "        print(\"age is valid\" )"
   ]
  },
  {
   "cell_type": "code",
   "execution_count": 33,
   "id": "c4f5c8fb",
   "metadata": {},
   "outputs": [
    {
     "name": "stdout",
     "output_type": "stream",
     "text": [
      "enter your age25\n",
      "age is valid\n"
     ]
    }
   ],
   "source": [
    "try :\n",
    "    age = int(input(\"enter your age\" ))\n",
    "    validaetage(age)\n",
    "except validateage as e :\n",
    "    print(e)"
   ]
  },
  {
   "cell_type": "code",
   "execution_count": 34,
   "id": "ba3d087f",
   "metadata": {},
   "outputs": [
    {
     "name": "stdout",
     "output_type": "stream",
     "text": [
      "enter your age-55\n",
      "entered age is negative \n"
     ]
    }
   ],
   "source": [
    "try :\n",
    "    age = int(input(\"enter your age\" ))\n",
    "    validaetage(age)\n",
    "except validateage as e :\n",
    "    print(e)"
   ]
  },
  {
   "cell_type": "code",
   "execution_count": 35,
   "id": "7aebaf72",
   "metadata": {},
   "outputs": [
    {
     "name": "stdout",
     "output_type": "stream",
     "text": [
      "enter your age250\n",
      "enterd age is very very high \n"
     ]
    }
   ],
   "source": [
    "try :\n",
    "    age = int(input(\"enter your age\" ))\n",
    "    validaetage(age)\n",
    "except validateage as e :\n",
    "    print(e)"
   ]
  },
  {
   "cell_type": "markdown",
   "id": "99b2db78",
   "metadata": {},
   "source": [
    "#### List Of General Use Exceptions"
   ]
  },
  {
   "cell_type": "code",
   "execution_count": 36,
   "id": "ace90d63",
   "metadata": {},
   "outputs": [
    {
     "name": "stdout",
     "output_type": "stream",
     "text": [
      "division by zero\n"
     ]
    }
   ],
   "source": [
    "try:\n",
    "    a = 10/0\n",
    "except ZeroDivisionError as e:\n",
    "    print(e)"
   ]
  },
  {
   "cell_type": "code",
   "execution_count": null,
   "id": "baca6927",
   "metadata": {},
   "outputs": [],
   "source": []
  },
  {
   "cell_type": "code",
   "execution_count": 37,
   "id": "a8380b47",
   "metadata": {},
   "outputs": [
    {
     "name": "stdout",
     "output_type": "stream",
     "text": [
      "invalid literal for int() with base 10: 'sudh'\n"
     ]
    }
   ],
   "source": [
    "try :\n",
    "    int(\"sudh\")\n",
    "except (ValueError, TabError) as e:\n",
    "    print(e)"
   ]
  },
  {
   "cell_type": "code",
   "execution_count": null,
   "id": "1a386e8e",
   "metadata": {},
   "outputs": [],
   "source": []
  },
  {
   "cell_type": "code",
   "execution_count": 38,
   "id": "05b5ef12",
   "metadata": {},
   "outputs": [
    {
     "name": "stdout",
     "output_type": "stream",
     "text": [
      "this will catch an error\n"
     ]
    }
   ],
   "source": [
    "try:\n",
    "    int(\"sudh\")\n",
    "except:    \n",
    "    print(\"this will catch an error\")"
   ]
  },
  {
   "cell_type": "code",
   "execution_count": null,
   "id": "e7c583fa",
   "metadata": {},
   "outputs": [],
   "source": []
  },
  {
   "cell_type": "code",
   "execution_count": 40,
   "id": "5495024d",
   "metadata": {},
   "outputs": [
    {
     "name": "stdout",
     "output_type": "stream",
     "text": [
      "No module named 'sudh'\n"
     ]
    }
   ],
   "source": [
    "try:\n",
    "    import sudh\n",
    "except ImportError as e:\n",
    "    print(e)"
   ]
  },
  {
   "cell_type": "code",
   "execution_count": 41,
   "id": "2f49bc4c",
   "metadata": {},
   "outputs": [
    {
     "name": "stdout",
     "output_type": "stream",
     "text": [
      "No module named 'sudh'\n"
     ]
    },
    {
     "data": {
      "text/plain": [
       "2.5"
      ]
     },
     "execution_count": 41,
     "metadata": {},
     "output_type": "execute_result"
    }
   ],
   "source": [
    "try:\n",
    "    import sudh\n",
    "except ImportError as e:\n",
    "    print(e)\n",
    "    \n",
    "10/4    "
   ]
  },
  {
   "cell_type": "code",
   "execution_count": null,
   "id": "5d542e60",
   "metadata": {},
   "outputs": [],
   "source": []
  },
  {
   "cell_type": "code",
   "execution_count": 42,
   "id": "068d15a8",
   "metadata": {},
   "outputs": [
    {
     "name": "stdout",
     "output_type": "stream",
     "text": [
      "'key2'\n"
     ]
    }
   ],
   "source": [
    "try :\n",
    "    d = {\"key\":\"sudh\", 1:[2,3,4,5]}\n",
    "    print(d[\"key2\"])\n",
    "    \n",
    "except KeyError as e:\n",
    "    print(e)"
   ]
  },
  {
   "cell_type": "code",
   "execution_count": null,
   "id": "addb634c",
   "metadata": {},
   "outputs": [],
   "source": []
  },
  {
   "cell_type": "code",
   "execution_count": 44,
   "id": "fdbed13c",
   "metadata": {},
   "outputs": [
    {
     "name": "stdout",
     "output_type": "stream",
     "text": [
      "'str' object has no attribute 'test'\n"
     ]
    }
   ],
   "source": [
    "try:\n",
    "    \"sudh\".test()\n",
    "except AttributeError as e:\n",
    "    print(e)"
   ]
  },
  {
   "cell_type": "code",
   "execution_count": null,
   "id": "c364b17d",
   "metadata": {},
   "outputs": [],
   "source": []
  },
  {
   "cell_type": "code",
   "execution_count": 45,
   "id": "8a4a2785",
   "metadata": {},
   "outputs": [
    {
     "name": "stdout",
     "output_type": "stream",
     "text": [
      "list index out of range\n"
     ]
    }
   ],
   "source": [
    "try:\n",
    "    l = [2,3,4,5]\n",
    "    print(l[6])\n",
    "    \n",
    "except IndexError as e:\n",
    "    print(e)"
   ]
  },
  {
   "cell_type": "code",
   "execution_count": null,
   "id": "34340974",
   "metadata": {},
   "outputs": [],
   "source": []
  },
  {
   "cell_type": "code",
   "execution_count": 46,
   "id": "7b98b7b3",
   "metadata": {},
   "outputs": [
    {
     "name": "stdout",
     "output_type": "stream",
     "text": [
      "unsupported operand type(s) for +: 'int' and 'str'\n"
     ]
    }
   ],
   "source": [
    "try:\n",
    "    123+\"sudh\"\n",
    "    \n",
    "except TypeError as e:\n",
    "    print(e)"
   ]
  },
  {
   "cell_type": "code",
   "execution_count": null,
   "id": "f827e562",
   "metadata": {},
   "outputs": [],
   "source": []
  },
  {
   "cell_type": "code",
   "execution_count": 47,
   "id": "2f2e2bd9",
   "metadata": {},
   "outputs": [
    {
     "data": {
      "text/plain": [
       "['__cause__',\n",
       " '__class__',\n",
       " '__context__',\n",
       " '__delattr__',\n",
       " '__dict__',\n",
       " '__dir__',\n",
       " '__doc__',\n",
       " '__eq__',\n",
       " '__format__',\n",
       " '__ge__',\n",
       " '__getattribute__',\n",
       " '__gt__',\n",
       " '__hash__',\n",
       " '__init__',\n",
       " '__init_subclass__',\n",
       " '__le__',\n",
       " '__lt__',\n",
       " '__ne__',\n",
       " '__new__',\n",
       " '__reduce__',\n",
       " '__reduce_ex__',\n",
       " '__repr__',\n",
       " '__setattr__',\n",
       " '__setstate__',\n",
       " '__sizeof__',\n",
       " '__str__',\n",
       " '__subclasshook__',\n",
       " '__suppress_context__',\n",
       " '__traceback__',\n",
       " 'args',\n",
       " 'with_traceback']"
      ]
     },
     "execution_count": 47,
     "metadata": {},
     "output_type": "execute_result"
    }
   ],
   "source": [
    "dir(Exception)"
   ]
  },
  {
   "cell_type": "code",
   "execution_count": 52,
   "id": "23795018",
   "metadata": {},
   "outputs": [
    {
     "name": "stdout",
     "output_type": "stream",
     "text": [
      "[Errno 2] No such file or directory: 'test6.txt'\n"
     ]
    }
   ],
   "source": [
    "try:\n",
    "    with open(\"test6.txt\", 'r') as f:\n",
    "        test = f.read()\n",
    "        \n",
    "except Exception as e:\n",
    "    print(e)\n",
    "    \n",
    "except FileNotFoundError as e: ## Bad Method\n",
    "    print(\"test\",e)"
   ]
  },
  {
   "cell_type": "markdown",
   "id": "908a1277",
   "metadata": {},
   "source": [
    "#### Best Practice Exception Handling"
   ]
  },
  {
   "cell_type": "code",
   "execution_count": 53,
   "id": "678dd3e7",
   "metadata": {},
   "outputs": [
    {
     "name": "stdout",
     "output_type": "stream",
     "text": [
      "division by zero\n"
     ]
    }
   ],
   "source": [
    "# Use always a specific exception\n",
    "try:\n",
    "    10/0\n",
    "    \n",
    "except Exception as e:\n",
    "    print(e)"
   ]
  },
  {
   "cell_type": "code",
   "execution_count": 54,
   "id": "cac644ed",
   "metadata": {},
   "outputs": [
    {
     "name": "stdout",
     "output_type": "stream",
     "text": [
      "division by zero\n"
     ]
    }
   ],
   "source": [
    "# Use always a specific exception\n",
    "try:\n",
    "    10/0\n",
    "    \n",
    "except ZeroDivisionError as e:\n",
    "    print(e)"
   ]
  },
  {
   "cell_type": "code",
   "execution_count": 55,
   "id": "52f1c64b",
   "metadata": {},
   "outputs": [
    {
     "name": "stdout",
     "output_type": "stream",
     "text": [
      "I am trying to handle a zerodivision error  division by zero\n"
     ]
    }
   ],
   "source": [
    "# print always a proper message\n",
    "try:\n",
    "    10/0\n",
    "except ZeroDivisionError as e:\n",
    "    print(\"I am trying to handle a zerodivision error \",e)"
   ]
  },
  {
   "cell_type": "code",
   "execution_count": 57,
   "id": "63f56cd4",
   "metadata": {
    "scrolled": true
   },
   "outputs": [],
   "source": [
    "# Always try to log your error\n",
    "import logging\n",
    "logging.basicConfig(filename='error.log',level=logging.ERROR)\n",
    "try:\n",
    "    10/0\n",
    "except ZeroDivisionError as e:\n",
    "    logging.error(\"I am trying to handle a zerodivision error {}\".format(e))"
   ]
  },
  {
   "cell_type": "code",
   "execution_count": 58,
   "id": "4e776515",
   "metadata": {},
   "outputs": [],
   "source": [
    "#alwyas avoid to write a multiple exception handling \n",
    "try :\n",
    "    10/0\n",
    "except FileNotFoundError as e : \n",
    "    logging.error(\"i am handling file not found  {} \".format(e) )\n",
    "except AttributeError as e : \n",
    "    logging.error(\"i am handling Attribute erro  {} \".format(e) )\n",
    "except ZeroDivisionError as e :\n",
    "    logging.error(\"i am trying to handle a zerodivision error {} \".format(e) )"
   ]
  },
  {
   "cell_type": "code",
   "execution_count": 59,
   "id": "21bdb818",
   "metadata": {},
   "outputs": [],
   "source": [
    "#Document all the error \n",
    "#cleanup all the resources\n",
    "try :\n",
    "    with open(\"test6.txt\" , 'w') as f :\n",
    "        f.write(\"this is my data to file \" )\n",
    "        \n",
    "except FileNotFoundError as e : \n",
    "    logging.error(\"i am handling file not found  {} \".format(e) )\n",
    "    \n",
    "finally :\n",
    "    f.close()"
   ]
  },
  {
   "cell_type": "code",
   "execution_count": null,
   "id": "ffb837a0",
   "metadata": {},
   "outputs": [],
   "source": []
  }
 ],
 "metadata": {
  "kernelspec": {
   "display_name": "Python 3 (ipykernel)",
   "language": "python",
   "name": "python3"
  },
  "language_info": {
   "codemirror_mode": {
    "name": "ipython",
    "version": 3
   },
   "file_extension": ".py",
   "mimetype": "text/x-python",
   "name": "python",
   "nbconvert_exporter": "python",
   "pygments_lexer": "ipython3",
   "version": "3.9.7"
  }
 },
 "nbformat": 4,
 "nbformat_minor": 5
}
