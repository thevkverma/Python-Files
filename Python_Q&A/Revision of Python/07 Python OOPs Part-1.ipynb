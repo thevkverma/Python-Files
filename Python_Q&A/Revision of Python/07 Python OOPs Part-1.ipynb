{
 "cells": [
  {
   "cell_type": "code",
   "execution_count": 1,
   "metadata": {},
   "outputs": [],
   "source": [
    "def euron_course(course, mentor, price):\n",
    "    print(course, mentor, price)"
   ]
  },
  {
   "cell_type": "code",
   "execution_count": 2,
   "metadata": {},
   "outputs": [
    {
     "ename": "_IncompleteInputError",
     "evalue": "incomplete input (2704431868.py, line 1)",
     "output_type": "error",
     "traceback": [
      "\u001b[1;36m  Cell \u001b[1;32mIn[2], line 1\u001b[1;36m\u001b[0m\n\u001b[1;33m    class euron:\u001b[0m\n\u001b[1;37m                ^\u001b[0m\n\u001b[1;31m_IncompleteInputError\u001b[0m\u001b[1;31m:\u001b[0m incomplete input\n"
     ]
    }
   ],
   "source": [
    "class euron:"
   ]
  },
  {
   "cell_type": "code",
   "execution_count": 3,
   "metadata": {},
   "outputs": [],
   "source": [
    "class euron:\n",
    "    pass"
   ]
  },
  {
   "cell_type": "code",
   "execution_count": 4,
   "metadata": {},
   "outputs": [
    {
     "data": {
      "text/plain": [
       "2000"
      ]
     },
     "execution_count": 4,
     "metadata": {},
     "output_type": "execute_result"
    }
   ],
   "source": [
    "class euron_course:\n",
    "    def __init__(self, course_name, course_mentor, course_price):\n",
    "        self.course_name = course_name\n",
    "        self.course_mentor = course_mentor\n",
    "        self.course_price = course_price\n",
    "\n",
    "e1 = euron_course(\"python\", \"sudhanshu\", 2000)\n",
    "e1.course_price"
   ]
  },
  {
   "cell_type": "code",
   "execution_count": 5,
   "metadata": {},
   "outputs": [
    {
     "data": {
      "text/plain": [
       "'python'"
      ]
     },
     "execution_count": 5,
     "metadata": {},
     "output_type": "execute_result"
    }
   ],
   "source": [
    "e1.course_name"
   ]
  },
  {
   "cell_type": "code",
   "execution_count": 6,
   "metadata": {},
   "outputs": [
    {
     "data": {
      "text/plain": [
       "'sudhanshu'"
      ]
     },
     "execution_count": 6,
     "metadata": {},
     "output_type": "execute_result"
    }
   ],
   "source": [
    "e1.course_mentor"
   ]
  },
  {
   "cell_type": "code",
   "execution_count": 7,
   "metadata": {},
   "outputs": [],
   "source": [
    "e2 = euron_course(\"data analysis\", \"imarn\", 2000)"
   ]
  },
  {
   "cell_type": "code",
   "execution_count": 8,
   "metadata": {},
   "outputs": [
    {
     "data": {
      "text/plain": [
       "'imarn'"
      ]
     },
     "execution_count": 8,
     "metadata": {},
     "output_type": "execute_result"
    }
   ],
   "source": [
    "e2.course_mentor"
   ]
  },
  {
   "cell_type": "code",
   "execution_count": 9,
   "metadata": {},
   "outputs": [
    {
     "data": {
      "text/plain": [
       "'data analysis'"
      ]
     },
     "execution_count": 9,
     "metadata": {},
     "output_type": "execute_result"
    }
   ],
   "source": [
    "e2.course_name"
   ]
  },
  {
   "cell_type": "code",
   "execution_count": 10,
   "metadata": {},
   "outputs": [
    {
     "data": {
      "text/plain": [
       "2000"
      ]
     },
     "execution_count": 10,
     "metadata": {},
     "output_type": "execute_result"
    }
   ],
   "source": [
    "e2.course_price"
   ]
  },
  {
   "cell_type": "code",
   "execution_count": 37,
   "metadata": {},
   "outputs": [],
   "source": [
    "class euron_course:\n",
    "    def __init__(self, course_name, course_mentor, course_price):\n",
    "        self.course_name = course_name\n",
    "        self.course_mentor = course_mentor\n",
    "        self.course_price = course_price\n",
    "\n",
    "    def display_course(self):\n",
    "        print(f\"Course Name: {self.course_name}, Course Mentor: {self.course_mentor}, Course Price: {self.course_price}\")\n",
    "\n",
    "    def update_price(self, new_price):\n",
    "        self.course_price = new_price\n",
    "        print(f\"Course Price Updated to: {self.course_price}\")\n",
    "\n",
    "    def enroll_student(self, student_name):\n",
    "        print(f\"{student_name} has enrolled in {self.course_name}\")        "
   ]
  },
  {
   "cell_type": "code",
   "execution_count": 38,
   "metadata": {},
   "outputs": [],
   "source": [
    "pro_course1 = euron_course(\"Python\", \"sudhanshu\", 2000)\n",
    "pro_course2 = euron_course(\"java\", \"sudhanshu\", 2000)\n",
    "pro_course3 = euron_course(\"big Data\", \"sudhanshu\", 3458)"
   ]
  },
  {
   "cell_type": "code",
   "execution_count": 39,
   "metadata": {},
   "outputs": [
    {
     "data": {
      "text/plain": [
       "'sudhanshu'"
      ]
     },
     "execution_count": 39,
     "metadata": {},
     "output_type": "execute_result"
    }
   ],
   "source": [
    "pro_course1.course_mentor"
   ]
  },
  {
   "cell_type": "markdown",
   "metadata": {},
   "source": [
    "#### Encapsulation"
   ]
  },
  {
   "cell_type": "code",
   "execution_count": 40,
   "metadata": {},
   "outputs": [],
   "source": [
    "class euron_course:\n",
    "    def __init__(self, course_name, course_mentor, course_price):\n",
    "        self.course_name = course_name\n",
    "        self.course_mentor = course_mentor\n",
    "        self.__course_price = course_price\n",
    "\n",
    "    def display_course(self):\n",
    "        print(f\"Course Name: {self.course_name}, Course Mentor: {self.course_mentor}, Course Price: {self.course_price}\")\n",
    "\n",
    "    def update_price(self, new_price):\n",
    "        self.course_price = new_price\n",
    "        print(f\"Course Price Updated to: {self.course_price}\")\n",
    "\n",
    "    def enroll_student(self, student_name):\n",
    "        print(f\"{student_name} has enrolled in {self.course_name}\")        "
   ]
  },
  {
   "cell_type": "code",
   "execution_count": 41,
   "metadata": {},
   "outputs": [],
   "source": [
    "pro_course3 = euron_course(\"big Data\", \"sudhanshu\", 3458)"
   ]
  },
  {
   "cell_type": "code",
   "execution_count": 42,
   "metadata": {},
   "outputs": [
    {
     "data": {
      "text/plain": [
       "'sudhanshu'"
      ]
     },
     "execution_count": 42,
     "metadata": {},
     "output_type": "execute_result"
    }
   ],
   "source": [
    "pro_course3.course_mentor"
   ]
  },
  {
   "cell_type": "code",
   "execution_count": 43,
   "metadata": {},
   "outputs": [
    {
     "data": {
      "text/plain": [
       "'big Data'"
      ]
     },
     "execution_count": 43,
     "metadata": {},
     "output_type": "execute_result"
    }
   ],
   "source": [
    "pro_course3.course_name"
   ]
  },
  {
   "cell_type": "code",
   "execution_count": 44,
   "metadata": {},
   "outputs": [
    {
     "ename": "AttributeError",
     "evalue": "'euron_course' object has no attribute '__course_price'",
     "output_type": "error",
     "traceback": [
      "\u001b[1;31m---------------------------------------------------------------------------\u001b[0m",
      "\u001b[1;31mAttributeError\u001b[0m                            Traceback (most recent call last)",
      "Cell \u001b[1;32mIn[44], line 1\u001b[0m\n\u001b[1;32m----> 1\u001b[0m \u001b[43mpro_course3\u001b[49m\u001b[38;5;241;43m.\u001b[39;49m\u001b[43m__course_price\u001b[49m\n",
      "\u001b[1;31mAttributeError\u001b[0m: 'euron_course' object has no attribute '__course_price'"
     ]
    }
   ],
   "source": [
    "pro_course3.__course_price"
   ]
  },
  {
   "cell_type": "code",
   "execution_count": 45,
   "metadata": {},
   "outputs": [
    {
     "data": {
      "text/plain": [
       "3458"
      ]
     },
     "execution_count": 45,
     "metadata": {},
     "output_type": "execute_result"
    }
   ],
   "source": [
    "pro_course3._euron_course__course_price"
   ]
  },
  {
   "cell_type": "code",
   "execution_count": 48,
   "metadata": {},
   "outputs": [],
   "source": [
    "class euron_course:\n",
    "    def __init__(self, course_name, course_mentor, course_price):\n",
    "        self.course_name = course_name\n",
    "        self.course_mentor = course_mentor\n",
    "        self.__course_price = course_price\n",
    "\n",
    "    def display_course(self):\n",
    "        print(f\"Course Name: {self.course_name}, Course Mentor: {self.course_mentor}, Course Price: {self.course_price}\")\n",
    "\n",
    "    def update_price(self, new_price):\n",
    "        self.course_price = new_price\n",
    "        print(f\"Course Price Updated to: {self.course_price}\")\n",
    "\n",
    "    def enroll_student(self, student_name):\n",
    "        print(f\"{student_name} has enrolled in {self.course_name}\") \n",
    "\n",
    "    def get_price(self):\n",
    "         return self.__course_price           "
   ]
  },
  {
   "cell_type": "code",
   "execution_count": 49,
   "metadata": {},
   "outputs": [
    {
     "data": {
      "text/plain": [
       "3458"
      ]
     },
     "execution_count": 49,
     "metadata": {},
     "output_type": "execute_result"
    }
   ],
   "source": [
    "pro_course3 = euron_course(\"big Data\", \"sudhanshu\", 3458)\n",
    "pro_course3.get_price()"
   ]
  },
  {
   "cell_type": "markdown",
   "metadata": {},
   "source": [
    "#### Inheritance"
   ]
  },
  {
   "cell_type": "code",
   "execution_count": 50,
   "metadata": {},
   "outputs": [],
   "source": [
    "class euron:\n",
    "    def __init__(self, course_name, course_mentor, course_price):\n",
    "        self.course_name = course_name\n",
    "        self.course_mentor = course_mentor\n",
    "        self.course_price = course_price\n",
    "\n",
    "class euron_course(euron):\n",
    "    def __init__(self, course_name, course_mentor, course_price, course_duration):\n",
    "        super().__init__(course_name, course_mentor, course_price)\n",
    "        self.course_duration = course_duration         "
   ]
  },
  {
   "cell_type": "code",
   "execution_count": 51,
   "metadata": {},
   "outputs": [],
   "source": [
    "e1 = euron_course(\"Python\", \"sudhanshu\", 2000, \"3 Months\")"
   ]
  },
  {
   "cell_type": "code",
   "execution_count": 52,
   "metadata": {},
   "outputs": [
    {
     "data": {
      "text/plain": [
       "'3 Months'"
      ]
     },
     "execution_count": 52,
     "metadata": {},
     "output_type": "execute_result"
    }
   ],
   "source": [
    "e1.course_duration"
   ]
  },
  {
   "cell_type": "code",
   "execution_count": 53,
   "metadata": {},
   "outputs": [],
   "source": [
    "class euron:\n",
    "    def __init__(self, course_name, course_mentor, course_price):\n",
    "        self.course_name = course_name\n",
    "        self.course_mentor = course_mentor\n",
    "        self.course_price = course_price\n",
    "\n",
    "    def display_course(self):\n",
    "        print(f\"Course Name: {self.course_name}, Course Mentor: {self.course_mentor}, Course Price: {self.course_price}\")    \n",
    "\n",
    "class euron_course(euron):\n",
    "    def __init__(self, course_name, course_mentor, course_price, course_duration):\n",
    "        super().__init__(course_name, course_mentor, course_price)\n",
    "        self.course_duration = course_duration         "
   ]
  },
  {
   "cell_type": "code",
   "execution_count": 54,
   "metadata": {},
   "outputs": [
    {
     "name": "stdout",
     "output_type": "stream",
     "text": [
      "Course Name: Python, Course Mentor: sudhanshu, Course Price: 2000\n"
     ]
    }
   ],
   "source": [
    "e1 = euron_course(\"Python\", \"sudhanshu\", 2000, \"3 Months\")\n",
    "e1.display_course()"
   ]
  },
  {
   "cell_type": "markdown",
   "metadata": {},
   "source": [
    "#### Polymorphism"
   ]
  },
  {
   "cell_type": "code",
   "execution_count": 55,
   "metadata": {},
   "outputs": [],
   "source": [
    "class euronmentor:\n",
    "    def teach(self):\n",
    "        print(\"Mentor teaching\")\n",
    "\n",
    "class python_mentor(euronmentor):\n",
    "    def teach(self):\n",
    "        print(\"Mentor teaching Pyton\")\n",
    "\n",
    "class java_mentor(euronmentor):\n",
    "    def teach(self):\n",
    "        print(\"Mentor taking java class\")                "
   ]
  },
  {
   "cell_type": "code",
   "execution_count": 57,
   "metadata": {},
   "outputs": [
    {
     "name": "stdout",
     "output_type": "stream",
     "text": [
      "Mentor teaching Pyton\n"
     ]
    }
   ],
   "source": [
    "e1 = python_mentor()\n",
    "e1.teach()"
   ]
  },
  {
   "cell_type": "code",
   "execution_count": null,
   "metadata": {},
   "outputs": [],
   "source": []
  }
 ],
 "metadata": {
  "kernelspec": {
   "display_name": "Python 3",
   "language": "python",
   "name": "python3"
  },
  "language_info": {
   "codemirror_mode": {
    "name": "ipython",
    "version": 3
   },
   "file_extension": ".py",
   "mimetype": "text/x-python",
   "name": "python",
   "nbconvert_exporter": "python",
   "pygments_lexer": "ipython3",
   "version": "3.13.1"
  }
 },
 "nbformat": 4,
 "nbformat_minor": 2
}
