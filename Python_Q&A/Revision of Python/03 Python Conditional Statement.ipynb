{
 "cells": [
  {
   "cell_type": "code",
   "execution_count": 1,
   "metadata": {},
   "outputs": [
    {
     "name": "stdout",
     "output_type": "stream",
     "text": [
      "you ca go now\n"
     ]
    }
   ],
   "source": [
    "light = \"Green\"\n",
    "\n",
    "if light == \"Green\":\n",
    "    print(\"you ca go now\")"
   ]
  },
  {
   "cell_type": "code",
   "execution_count": 2,
   "metadata": {},
   "outputs": [
    {
     "data": {
      "text/plain": [
       "False"
      ]
     },
     "execution_count": 2,
     "metadata": {},
     "output_type": "execute_result"
    }
   ],
   "source": [
    "light == \"Red\""
   ]
  },
  {
   "cell_type": "code",
   "execution_count": 3,
   "metadata": {},
   "outputs": [
    {
     "name": "stdout",
     "output_type": "stream",
     "text": [
      "you ca go now\n"
     ]
    }
   ],
   "source": [
    "light = \"Green\"\n",
    "\n",
    "if light == \"Green\":\n",
    "    print(\"you ca go now\")\n",
    "\n",
    "elif light == \"Red\":\n",
    "    print(\"You have to stop\")\n",
    "\n",
    "else:\n",
    "    print(\"You can start now\")        "
   ]
  },
  {
   "cell_type": "code",
   "execution_count": 5,
   "metadata": {},
   "outputs": [
    {
     "data": {
      "text/plain": [
       "True"
      ]
     },
     "execution_count": 5,
     "metadata": {},
     "output_type": "execute_result"
    }
   ],
   "source": [
    "light == \"Red\""
   ]
  },
  {
   "cell_type": "code",
   "execution_count": 7,
   "metadata": {},
   "outputs": [
    {
     "name": "stdout",
     "output_type": "stream",
     "text": [
      "You have to stop\n"
     ]
    }
   ],
   "source": [
    "light = \"Red\"\n",
    "\n",
    "if light == \"Green\":\n",
    "    print(\"you ca go now\")\n",
    "\n",
    "elif light == \"Red\":\n",
    "    print(\"You have to stop\")\n",
    "\n",
    "else:\n",
    "    print(\"You can start now\")        "
   ]
  },
  {
   "cell_type": "code",
   "execution_count": 8,
   "metadata": {},
   "outputs": [
    {
     "name": "stdout",
     "output_type": "stream",
     "text": [
      "You can start now\n"
     ]
    }
   ],
   "source": [
    "light = \"Yellow\"\n",
    "\n",
    "if light == \"Green\":\n",
    "    print(\"you ca go now\")\n",
    "\n",
    "elif light == \"Red\":\n",
    "    print(\"You have to stop\")\n",
    "\n",
    "else:\n",
    "    print(\"You can start now\")        "
   ]
  },
  {
   "cell_type": "code",
   "execution_count": 9,
   "metadata": {},
   "outputs": [
    {
     "data": {
      "text/plain": [
       "'vivek kumar verma'"
      ]
     },
     "execution_count": 9,
     "metadata": {},
     "output_type": "execute_result"
    }
   ],
   "source": [
    "input()"
   ]
  },
  {
   "cell_type": "code",
   "execution_count": 10,
   "metadata": {},
   "outputs": [
    {
     "data": {
      "text/plain": [
       "'4589'"
      ]
     },
     "execution_count": 10,
     "metadata": {},
     "output_type": "execute_result"
    }
   ],
   "source": [
    "input()"
   ]
  },
  {
   "cell_type": "code",
   "execution_count": 11,
   "metadata": {},
   "outputs": [
    {
     "data": {
      "text/plain": [
       "478"
      ]
     },
     "execution_count": 11,
     "metadata": {},
     "output_type": "execute_result"
    }
   ],
   "source": [
    "int(input())"
   ]
  },
  {
   "cell_type": "code",
   "execution_count": null,
   "metadata": {},
   "outputs": [],
   "source": []
  },
  {
   "cell_type": "code",
   "execution_count": 12,
   "metadata": {},
   "outputs": [
    {
     "name": "stdout",
     "output_type": "stream",
     "text": [
      "You have to stop\n"
     ]
    }
   ],
   "source": [
    "light = input(\"Enter the light situation: \")\n",
    "\n",
    "if light == \"Green\":\n",
    "    print(\"you ca go now\")\n",
    "\n",
    "elif light == \"Red\":\n",
    "    print(\"You have to stop\")\n",
    "\n",
    "else:\n",
    "    print(\"You can start now\")        "
   ]
  },
  {
   "cell_type": "code",
   "execution_count": 13,
   "metadata": {},
   "outputs": [
    {
     "name": "stdout",
     "output_type": "stream",
     "text": [
      "you ca go now\n"
     ]
    }
   ],
   "source": [
    "light = input(\"Enter the light situation: \")\n",
    "\n",
    "if light == \"Green\":\n",
    "    print(\"you ca go now\")\n",
    "\n",
    "elif light == \"Red\":\n",
    "    print(\"You have to stop\")\n",
    "\n",
    "else:\n",
    "    print(\"You can start now\")        "
   ]
  },
  {
   "cell_type": "code",
   "execution_count": 20,
   "metadata": {},
   "outputs": [
    {
     "name": "stdout",
     "output_type": "stream",
     "text": [
      "You have to stop\n"
     ]
    }
   ],
   "source": [
    "light = input(\"Enter the light situation: \")\n",
    "\n",
    "if light.lower() == \"Green\".lower():\n",
    "    print(\"you ca go now\")\n",
    "\n",
    "elif light.lower() == \"Red\".lower():\n",
    "    print(\"You have to stop\")\n",
    "\n",
    "else:\n",
    "    print(\"You can start now\")        "
   ]
  },
  {
   "cell_type": "code",
   "execution_count": 21,
   "metadata": {},
   "outputs": [
    {
     "name": "stdout",
     "output_type": "stream",
     "text": [
      "you ca go now\n"
     ]
    }
   ],
   "source": [
    "light = input(\"Enter the light situation: \")\n",
    "\n",
    "if light.lower() == \"Green\".lower():\n",
    "    print(\"you ca go now\")\n",
    "\n",
    "elif light.lower() == \"Red\".lower():\n",
    "    print(\"You have to stop\")\n",
    "\n",
    "else:\n",
    "    print(\"You can start now\")        "
   ]
  },
  {
   "cell_type": "code",
   "execution_count": 24,
   "metadata": {},
   "outputs": [
    {
     "name": "stdout",
     "output_type": "stream",
     "text": [
      "Welcome to the system\n"
     ]
    }
   ],
   "source": [
    "urerid = input(\"Enter the user id: \")\n",
    "password = input(\"Enter the password: \")\n",
    "\n",
    "if urerid == \"vivek\" and password == \"123\":\n",
    "    print(\"Welcome to the system\")\n",
    "\n",
    "elif urerid!= \"vivek\" and password!= \"123\":\n",
    "    print(\"Invalid user id and password\")   \n",
    "\n",
    "elif urerid!= \"vivek\":\n",
    "    print(\"Invalid user id\")    \n",
    "\n",
    "else:\n",
    "    print(\"Invalid password\")          "
   ]
  },
  {
   "cell_type": "code",
   "execution_count": 25,
   "metadata": {},
   "outputs": [
    {
     "name": "stdout",
     "output_type": "stream",
     "text": [
      "Invalid password\n"
     ]
    }
   ],
   "source": [
    "urerid = input(\"Enter the user id: \")\n",
    "password = input(\"Enter the password: \")\n",
    "\n",
    "if urerid == \"vivek\" and password == \"123\":\n",
    "    print(\"Welcome to the system\")\n",
    "\n",
    "elif urerid!= \"vivek\" and password!= \"123\":\n",
    "    print(\"Invalid user id and password\")   \n",
    "\n",
    "elif urerid!= \"vivek\":\n",
    "    print(\"Invalid user id\")    \n",
    "\n",
    "else:\n",
    "    print(\"Invalid password\")          "
   ]
  },
  {
   "cell_type": "code",
   "execution_count": 27,
   "metadata": {},
   "outputs": [
    {
     "name": "stdout",
     "output_type": "stream",
     "text": [
      "vivek 123\n",
      "Welcome to the system\n"
     ]
    }
   ],
   "source": [
    "urerid = input(\"Enter the user id: \")\n",
    "password = input(\"Enter the password: \")\n",
    "print(urerid, password)\n",
    "\n",
    "if urerid == \"vivek\" and password == \"123\":\n",
    "    print(\"Welcome to the system\")\n",
    "\n",
    "elif urerid!= \"vivek\" and password!= \"123\":\n",
    "    print(\"Invalid user id and password\")   \n",
    "\n",
    "elif urerid!= \"vivek\":\n",
    "    print(\"Invalid user id\")    \n",
    "\n",
    "else:\n",
    "    print(\"Invalid password\")          "
   ]
  },
  {
   "cell_type": "code",
   "execution_count": 28,
   "metadata": {},
   "outputs": [
    {
     "name": "stdout",
     "output_type": "stream",
     "text": [
      "1458 123\n",
      "Invalid user id\n"
     ]
    }
   ],
   "source": [
    "urerid = input(\"Enter the user id: \")\n",
    "password = input(\"Enter the password: \")\n",
    "print(urerid, password)\n",
    "\n",
    "if urerid == \"vivek\" and password == \"123\":\n",
    "    print(\"Welcome to the system\")\n",
    "\n",
    "elif urerid!= \"vivek\" and password!= \"123\":\n",
    "    print(\"Invalid user id and password\")   \n",
    "\n",
    "elif urerid!= \"vivek\":\n",
    "    print(\"Invalid user id\")    \n",
    "\n",
    "else:\n",
    "    print(\"Invalid password\")          "
   ]
  },
  {
   "cell_type": "code",
   "execution_count": 29,
   "metadata": {},
   "outputs": [
    {
     "name": "stdout",
     "output_type": "stream",
     "text": [
      "UserID-  vivek Password-  123\n",
      "Welcome to the system\n"
     ]
    }
   ],
   "source": [
    "urerid = input(\"Enter the user id: \")\n",
    "password = input(\"Enter the password: \")\n",
    "print(\"UserID- \",urerid, \"Password- \" ,password)\n",
    "\n",
    "if urerid == \"vivek\" and password == \"123\":\n",
    "    print(\"Welcome to the system\")\n",
    "\n",
    "elif urerid!= \"vivek\" and password!= \"123\":\n",
    "    print(\"Invalid user id and password\")   \n",
    "\n",
    "elif urerid!= \"vivek\":\n",
    "    print(\"Invalid user id\")    \n",
    "\n",
    "else:\n",
    "    print(\"Invalid password\")          "
   ]
  },
  {
   "cell_type": "code",
   "execution_count": null,
   "metadata": {},
   "outputs": [],
   "source": []
  },
  {
   "cell_type": "code",
   "execution_count": 31,
   "metadata": {},
   "outputs": [
    {
     "name": "stdout",
     "output_type": "stream",
     "text": [
      "Number is:  5\n",
      "Odd\n"
     ]
    }
   ],
   "source": [
    "number = int(input(\"Enter the number: \"))\n",
    "print(\"Number is: \",number)\n",
    "\n",
    "if number % 2==0:\n",
    "    print(\"Even\")\n",
    "\n",
    "else:\n",
    "    print(\"Odd\")    "
   ]
  },
  {
   "cell_type": "code",
   "execution_count": null,
   "metadata": {},
   "outputs": [],
   "source": []
  }
 ],
 "metadata": {
  "kernelspec": {
   "display_name": "Python 3",
   "language": "python",
   "name": "python3"
  },
  "language_info": {
   "codemirror_mode": {
    "name": "ipython",
    "version": 3
   },
   "file_extension": ".py",
   "mimetype": "text/x-python",
   "name": "python",
   "nbconvert_exporter": "python",
   "pygments_lexer": "ipython3",
   "version": "3.13.1"
  }
 },
 "nbformat": 4,
 "nbformat_minor": 2
}
