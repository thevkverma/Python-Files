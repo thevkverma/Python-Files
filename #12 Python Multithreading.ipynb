{
 "cells": [
  {
   "cell_type": "markdown",
   "id": "f5096d7d",
   "metadata": {},
   "source": [
    "### Multithreading "
   ]
  },
  {
   "cell_type": "code",
   "execution_count": 1,
   "id": "4b46505f",
   "metadata": {},
   "outputs": [],
   "source": [
    "import threading"
   ]
  },
  {
   "cell_type": "code",
   "execution_count": 2,
   "id": "0c9d10db",
   "metadata": {},
   "outputs": [],
   "source": [
    "def test(id):\n",
    "    print(\"prog start %d \"% id)"
   ]
  },
  {
   "cell_type": "code",
   "execution_count": 3,
   "id": "a8aee733",
   "metadata": {},
   "outputs": [
    {
     "name": "stdout",
     "output_type": "stream",
     "text": [
      "prog start 45 \n"
     ]
    }
   ],
   "source": [
    "test(45)"
   ]
  },
  {
   "cell_type": "code",
   "execution_count": null,
   "id": "343e8426",
   "metadata": {},
   "outputs": [],
   "source": []
  },
  {
   "cell_type": "code",
   "execution_count": 4,
   "id": "538234db",
   "metadata": {},
   "outputs": [],
   "source": [
    "thread = [threading.Thread(target=test, args=(i,)) for i in range(10)]"
   ]
  },
  {
   "cell_type": "code",
   "execution_count": 5,
   "id": "b085c956",
   "metadata": {},
   "outputs": [
    {
     "name": "stdout",
     "output_type": "stream",
     "text": [
      "prog start 0 \n",
      "prog start 1 \n",
      "prog start 2 \n",
      "prog start 3 \n",
      "prog start 4 \n",
      "prog start 5 \n",
      "prog start 6 \n",
      "prog start 7 \n",
      "prog start 8 \n",
      "prog start 9 \n"
     ]
    }
   ],
   "source": [
    "for t in thread:\n",
    "    t.start()"
   ]
  },
  {
   "cell_type": "code",
   "execution_count": 6,
   "id": "908dd31a",
   "metadata": {},
   "outputs": [
    {
     "data": {
      "text/plain": [
       "[<Thread(Thread-8, stopped 10680)>,\n",
       " <Thread(Thread-9, stopped 8004)>,\n",
       " <Thread(Thread-10, stopped 14648)>,\n",
       " <Thread(Thread-11, stopped 15144)>,\n",
       " <Thread(Thread-12, stopped 18084)>,\n",
       " <Thread(Thread-13, stopped 8876)>,\n",
       " <Thread(Thread-14, stopped 14720)>,\n",
       " <Thread(Thread-15, stopped 12184)>,\n",
       " <Thread(Thread-16, stopped 15548)>,\n",
       " <Thread(Thread-17, stopped 3748)>]"
      ]
     },
     "execution_count": 6,
     "metadata": {},
     "output_type": "execute_result"
    }
   ],
   "source": [
    "thread"
   ]
  },
  {
   "cell_type": "code",
   "execution_count": 7,
   "id": "db758e29",
   "metadata": {},
   "outputs": [
    {
     "data": {
      "text/plain": [
       "1378002313920"
      ]
     },
     "execution_count": 7,
     "metadata": {},
     "output_type": "execute_result"
    }
   ],
   "source": [
    "id(thread)"
   ]
  },
  {
   "cell_type": "code",
   "execution_count": null,
   "id": "fe9780ef",
   "metadata": {},
   "outputs": [],
   "source": []
  },
  {
   "cell_type": "code",
   "execution_count": 8,
   "id": "7dd156ea",
   "metadata": {},
   "outputs": [],
   "source": [
    "import time"
   ]
  },
  {
   "cell_type": "code",
   "execution_count": 9,
   "id": "4eae7934",
   "metadata": {},
   "outputs": [],
   "source": [
    "def test1(id):\n",
    "    for i in range(10):\n",
    "        print(\"test1 %d printing %d %s\" %(id,i,time.ctime()))"
   ]
  },
  {
   "cell_type": "code",
   "execution_count": 10,
   "id": "6f8b2fcc",
   "metadata": {},
   "outputs": [
    {
     "name": "stdout",
     "output_type": "stream",
     "text": [
      "test1 0 printing 0 Wed Sep 27 09:07:37 2023\n",
      "test1 0 printing 1 Wed Sep 27 09:07:37 2023\n",
      "test1 0 printing 2 Wed Sep 27 09:07:37 2023\n",
      "test1 0 printing 3 Wed Sep 27 09:07:37 2023\n",
      "test1 0 printing 4 Wed Sep 27 09:07:37 2023\n",
      "test1 0 printing 5 Wed Sep 27 09:07:37 2023\n",
      "test1 0 printing 6 Wed Sep 27 09:07:37 2023\n",
      "test1 0 printing 7 Wed Sep 27 09:07:37 2023\n",
      "test1 0 printing 8 Wed Sep 27 09:07:37 2023\n",
      "test1 0 printing 9 Wed Sep 27 09:07:37 2023\n"
     ]
    }
   ],
   "source": [
    "test1(0)"
   ]
  },
  {
   "cell_type": "code",
   "execution_count": 11,
   "id": "2475de84",
   "metadata": {},
   "outputs": [],
   "source": [
    "thread1 = [threading.Thread(target = test1, args = (i,)) for i in range(3)]"
   ]
  },
  {
   "cell_type": "code",
   "execution_count": 12,
   "id": "e83208c3",
   "metadata": {},
   "outputs": [
    {
     "name": "stdout",
     "output_type": "stream",
     "text": [
      "test1 0 printing 0 Wed Sep 27 09:07:38 2023\n",
      "test1 0 printing 1 Wed Sep 27 09:07:38 2023\n",
      "test1 0 printing 2 Wed Sep 27 09:07:38 2023\n",
      "test1 0 printing 3 Wed Sep 27 09:07:38 2023\n",
      "test1 0 printing 4 Wed Sep 27 09:07:38 2023\n",
      "test1 0 printing 5 Wed Sep 27 09:07:38 2023\n",
      "test1 0 printing 6 Wed Sep 27 09:07:38 2023\n",
      "test1 0 printing 7 Wed Sep 27 09:07:38 2023\n",
      "test1 0 printing 8 Wed Sep 27 09:07:38 2023\n",
      "test1 0 printing 9 Wed Sep 27 09:07:38 2023\n",
      "test1 1 printing 0 Wed Sep 27 09:07:38 2023\n",
      "test1 1 printing 1 Wed Sep 27 09:07:38 2023\n",
      "test1 1 printing 2 Wed Sep 27 09:07:38 2023\n",
      "test1 1 printing 3 Wed Sep 27 09:07:38 2023\n",
      "test1 1 printing 4 Wed Sep 27 09:07:38 2023\n",
      "test1 1 printing 5 Wed Sep 27 09:07:38 2023\n",
      "test1 1 printing 6 Wed Sep 27 09:07:38 2023\n",
      "test1 1 printing 7 Wed Sep 27 09:07:38 2023\n",
      "test1 1 printing 8 Wed Sep 27 09:07:38 2023\n",
      "test1 1 printing 9 Wed Sep 27 09:07:38 2023\n",
      "test1 2 printing 0 Wed Sep 27 09:07:38 2023\n",
      "test1 2 printing 1 Wed Sep 27 09:07:38 2023\n",
      "test1 2 printing 2 Wed Sep 27 09:07:38 2023\n",
      "test1 2 printing 3 Wed Sep 27 09:07:38 2023\n",
      "test1 2 printing 4 Wed Sep 27 09:07:38 2023\n",
      "test1 2 printing 5 Wed Sep 27 09:07:38 2023\n",
      "test1 2 printing 6 Wed Sep 27 09:07:38 2023\n",
      "test1 2 printing 7 Wed Sep 27 09:07:38 2023\n",
      "test1 2 printing 8 Wed Sep 27 09:07:38 2023\n",
      "test1 2 printing 9 Wed Sep 27 09:07:38 2023\n"
     ]
    }
   ],
   "source": [
    "for t in thread1:\n",
    "    t.start()"
   ]
  },
  {
   "cell_type": "code",
   "execution_count": null,
   "id": "764ec590",
   "metadata": {},
   "outputs": [],
   "source": []
  },
  {
   "cell_type": "code",
   "execution_count": 13,
   "id": "0499a995",
   "metadata": {},
   "outputs": [],
   "source": [
    "shared_var = 0\n",
    "lock_var = threading.Lock()"
   ]
  },
  {
   "cell_type": "code",
   "execution_count": 14,
   "id": "e75f60a1",
   "metadata": {},
   "outputs": [
    {
     "name": "stdout",
     "output_type": "stream",
     "text": [
      "test2 is 0 has increased the shared variable by 1 \n"
     ]
    }
   ],
   "source": [
    "shared_var = 0\n",
    "lock_var = threading.Lock()\n",
    "def test2(id) :\n",
    "    global shared_var\n",
    "    with lock_var:\n",
    "        shared_var = shared_var+1\n",
    "        print(\"test2 is %d has increased the shared variable by %d \" % (id ,shared_var) )\n",
    "        time.sleep(1)\n",
    "ther3 = [threading.Thread(target=test2 , args = (i,) ) for i in range(3)]\n",
    "for t in ther3:\n",
    "    t.start()"
   ]
  },
  {
   "cell_type": "code",
   "execution_count": 15,
   "id": "98402221",
   "metadata": {},
   "outputs": [
    {
     "name": "stdout",
     "output_type": "stream",
     "text": [
      "test2 is 0 has increased the shared variable by 1 \n",
      "test2 is 1 has increased the shared variable by 2 \n",
      "test2 is 2 has increased the shared variable by 3 \n",
      "test2 is 1 has increased the shared variable by 4 \n",
      "test2 is 2 has increased the shared variable by 5 \n"
     ]
    }
   ],
   "source": [
    "shared_var = 0\n",
    "#lock_var = threading.Lock()\n",
    "def test2(id) :\n",
    "    global shared_var\n",
    "    #with lock_var:\n",
    "    shared_var = shared_var+1\n",
    "    print(\"test2 is %d has increased the shared variable by %d \" % (id ,shared_var) )\n",
    "    time.sleep(1)\n",
    "\n",
    "ther4 = [threading.Thread(target=test2 , args = (i,) ) for i in range(3)]\n",
    "for t in ther4:\n",
    "    t.start()"
   ]
  },
  {
   "cell_type": "code",
   "execution_count": 16,
   "id": "47db91ed",
   "metadata": {},
   "outputs": [
    {
     "name": "stdout",
     "output_type": "stream",
     "text": [
      "test2 is 0 has increased the shared variable by 6 \n"
     ]
    }
   ],
   "source": [
    "test2(0)"
   ]
  },
  {
   "cell_type": "code",
   "execution_count": 17,
   "id": "d5c46788",
   "metadata": {},
   "outputs": [
    {
     "data": {
      "text/plain": [
       "6"
      ]
     },
     "execution_count": 17,
     "metadata": {},
     "output_type": "execute_result"
    }
   ],
   "source": [
    "shared_var"
   ]
  },
  {
   "cell_type": "code",
   "execution_count": null,
   "id": "f86dcf62",
   "metadata": {},
   "outputs": [],
   "source": []
  }
 ],
 "metadata": {
  "kernelspec": {
   "display_name": "Python 3 (ipykernel)",
   "language": "python",
   "name": "python3"
  },
  "language_info": {
   "codemirror_mode": {
    "name": "ipython",
    "version": 3
   },
   "file_extension": ".py",
   "mimetype": "text/x-python",
   "name": "python",
   "nbconvert_exporter": "python",
   "pygments_lexer": "ipython3",
   "version": "3.9.7"
  }
 },
 "nbformat": 4,
 "nbformat_minor": 5
}
