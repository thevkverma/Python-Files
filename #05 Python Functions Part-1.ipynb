{
 "cells": [
  {
   "cell_type": "code",
   "execution_count": 1,
   "id": "9ab1e6b2",
   "metadata": {},
   "outputs": [
    {
     "data": {
      "text/plain": [
       "4"
      ]
     },
     "execution_count": 1,
     "metadata": {},
     "output_type": "execute_result"
    }
   ],
   "source": [
    "len(\"sudh\")"
   ]
  },
  {
   "cell_type": "code",
   "execution_count": 2,
   "id": "669001e6",
   "metadata": {},
   "outputs": [
    {
     "name": "stdout",
     "output_type": "stream",
     "text": [
      "sdkgdg\n"
     ]
    }
   ],
   "source": [
    "print(\"sdkgdg\")"
   ]
  },
  {
   "cell_type": "code",
   "execution_count": null,
   "id": "0bfcb0a0",
   "metadata": {},
   "outputs": [],
   "source": []
  },
  {
   "cell_type": "code",
   "execution_count": 3,
   "id": "17599594",
   "metadata": {},
   "outputs": [
    {
     "ename": "IndentationError",
     "evalue": "expected an indented block (Temp/ipykernel_12880/2690612609.py, line 2)",
     "output_type": "error",
     "traceback": [
      "\u001b[1;36m  File \u001b[1;32m\"C:\\Users\\thevk\\AppData\\Local\\Temp/ipykernel_12880/2690612609.py\"\u001b[1;36m, line \u001b[1;32m2\u001b[0m\n\u001b[1;33m    \u001b[0m\n\u001b[1;37m    ^\u001b[0m\n\u001b[1;31mIndentationError\u001b[0m\u001b[1;31m:\u001b[0m expected an indented block\n"
     ]
    }
   ],
   "source": [
    "def test():\n",
    "    "
   ]
  },
  {
   "cell_type": "code",
   "execution_count": 4,
   "id": "a8cabefe",
   "metadata": {},
   "outputs": [],
   "source": [
    "def test():\n",
    "    pass"
   ]
  },
  {
   "cell_type": "code",
   "execution_count": 5,
   "id": "8519e475",
   "metadata": {},
   "outputs": [],
   "source": [
    "def test1():\n",
    "    print(\"this is my frist function\")"
   ]
  },
  {
   "cell_type": "code",
   "execution_count": 6,
   "id": "309a117e",
   "metadata": {},
   "outputs": [
    {
     "name": "stdout",
     "output_type": "stream",
     "text": [
      "this is my frist function\n"
     ]
    }
   ],
   "source": [
    "test1()"
   ]
  },
  {
   "cell_type": "code",
   "execution_count": 8,
   "id": "059a56bd",
   "metadata": {},
   "outputs": [
    {
     "name": "stdout",
     "output_type": "stream",
     "text": [
      "this is my frist function\n"
     ]
    }
   ],
   "source": [
    "a = test1()\n",
    "a"
   ]
  },
  {
   "cell_type": "code",
   "execution_count": 9,
   "id": "956a4bf2",
   "metadata": {},
   "outputs": [
    {
     "ename": "TypeError",
     "evalue": "unsupported operand type(s) for +: 'NoneType' and 'str'",
     "output_type": "error",
     "traceback": [
      "\u001b[1;31m---------------------------------------------------------------------------\u001b[0m",
      "\u001b[1;31mTypeError\u001b[0m                                 Traceback (most recent call last)",
      "\u001b[1;32m~\\AppData\\Local\\Temp/ipykernel_12880/2234722170.py\u001b[0m in \u001b[0;36m<module>\u001b[1;34m\u001b[0m\n\u001b[1;32m----> 1\u001b[1;33m \u001b[0ma\u001b[0m \u001b[1;33m+\u001b[0m \u001b[1;34m\"sudh\"\u001b[0m\u001b[1;33m\u001b[0m\u001b[1;33m\u001b[0m\u001b[0m\n\u001b[0m",
      "\u001b[1;31mTypeError\u001b[0m: unsupported operand type(s) for +: 'NoneType' and 'str'"
     ]
    }
   ],
   "source": [
    "a + \"sudh\""
   ]
  },
  {
   "cell_type": "code",
   "execution_count": 10,
   "id": "f38bfac3",
   "metadata": {},
   "outputs": [
    {
     "data": {
      "text/plain": [
       "NoneType"
      ]
     },
     "execution_count": 10,
     "metadata": {},
     "output_type": "execute_result"
    }
   ],
   "source": [
    "type(a)"
   ]
  },
  {
   "cell_type": "code",
   "execution_count": 12,
   "id": "aa36df6c",
   "metadata": {},
   "outputs": [
    {
     "name": "stdout",
     "output_type": "stream",
     "text": [
      "this is my frist function\n"
     ]
    }
   ],
   "source": [
    "a = test1()\n",
    "a"
   ]
  },
  {
   "cell_type": "code",
   "execution_count": 13,
   "id": "c6e13264",
   "metadata": {},
   "outputs": [
    {
     "data": {
      "text/plain": [
       "'None'"
      ]
     },
     "execution_count": 13,
     "metadata": {},
     "output_type": "execute_result"
    }
   ],
   "source": [
    "str(a)"
   ]
  },
  {
   "cell_type": "code",
   "execution_count": null,
   "id": "19be54c8",
   "metadata": {},
   "outputs": [],
   "source": []
  },
  {
   "cell_type": "code",
   "execution_count": 19,
   "id": "7ed0dfdf",
   "metadata": {},
   "outputs": [],
   "source": [
    "def test2():\n",
    "    return \"this is my frist function\""
   ]
  },
  {
   "cell_type": "code",
   "execution_count": 20,
   "id": "01eaaea1",
   "metadata": {},
   "outputs": [
    {
     "data": {
      "text/plain": [
       "'this is my frist function'"
      ]
     },
     "execution_count": 20,
     "metadata": {},
     "output_type": "execute_result"
    }
   ],
   "source": [
    "test2()"
   ]
  },
  {
   "cell_type": "code",
   "execution_count": 21,
   "id": "475447dc",
   "metadata": {},
   "outputs": [
    {
     "data": {
      "text/plain": [
       "str"
      ]
     },
     "execution_count": 21,
     "metadata": {},
     "output_type": "execute_result"
    }
   ],
   "source": [
    "a = test2()\n",
    "type(a)"
   ]
  },
  {
   "cell_type": "code",
   "execution_count": 22,
   "id": "f8ede2f3",
   "metadata": {},
   "outputs": [
    {
     "data": {
      "text/plain": [
       "'this is my frist function sudh'"
      ]
     },
     "execution_count": 22,
     "metadata": {},
     "output_type": "execute_result"
    }
   ],
   "source": [
    "a +\" sudh\""
   ]
  },
  {
   "cell_type": "code",
   "execution_count": null,
   "id": "e703f5b1",
   "metadata": {},
   "outputs": [],
   "source": []
  },
  {
   "cell_type": "code",
   "execution_count": 23,
   "id": "899fe178",
   "metadata": {},
   "outputs": [],
   "source": [
    "def test3():\n",
    "    return 3546"
   ]
  },
  {
   "cell_type": "code",
   "execution_count": 24,
   "id": "f7d17e9f",
   "metadata": {},
   "outputs": [
    {
     "name": "stdout",
     "output_type": "stream",
     "text": [
      "3546 <class 'int'>\n"
     ]
    }
   ],
   "source": [
    "print(test3(), type(test3()))"
   ]
  },
  {
   "cell_type": "code",
   "execution_count": null,
   "id": "633a634e",
   "metadata": {},
   "outputs": [],
   "source": []
  },
  {
   "cell_type": "code",
   "execution_count": 25,
   "id": "ccd78bab",
   "metadata": {},
   "outputs": [],
   "source": [
    "def test4():\n",
    "    return 4,3,\"sudh\",[1,2,3,4,5]"
   ]
  },
  {
   "cell_type": "code",
   "execution_count": 26,
   "id": "2a1d8379",
   "metadata": {},
   "outputs": [
    {
     "data": {
      "text/plain": [
       "(4, 3, 'sudh', [1, 2, 3, 4, 5])"
      ]
     },
     "execution_count": 26,
     "metadata": {},
     "output_type": "execute_result"
    }
   ],
   "source": [
    "test4()"
   ]
  },
  {
   "cell_type": "code",
   "execution_count": 27,
   "id": "9611a5ab",
   "metadata": {},
   "outputs": [
    {
     "data": {
      "text/plain": [
       "tuple"
      ]
     },
     "execution_count": 27,
     "metadata": {},
     "output_type": "execute_result"
    }
   ],
   "source": [
    "type(test4())"
   ]
  },
  {
   "cell_type": "code",
   "execution_count": 28,
   "id": "629aecd7",
   "metadata": {},
   "outputs": [
    {
     "data": {
      "text/plain": [
       "(4, 3, 'sudh', [1, 2, 3, 4, 5])"
      ]
     },
     "execution_count": 28,
     "metadata": {},
     "output_type": "execute_result"
    }
   ],
   "source": [
    "b = test4()\n",
    "b"
   ]
  },
  {
   "cell_type": "code",
   "execution_count": 29,
   "id": "1c2d0490",
   "metadata": {},
   "outputs": [
    {
     "data": {
      "text/plain": [
       "4"
      ]
     },
     "execution_count": 29,
     "metadata": {},
     "output_type": "execute_result"
    }
   ],
   "source": [
    "b[0]"
   ]
  },
  {
   "cell_type": "code",
   "execution_count": 30,
   "id": "5fe5e447",
   "metadata": {},
   "outputs": [
    {
     "data": {
      "text/plain": [
       "([1, 2, 3, 4, 5], 'sudh', 3, 4)"
      ]
     },
     "execution_count": 30,
     "metadata": {},
     "output_type": "execute_result"
    }
   ],
   "source": [
    "b[::-1]"
   ]
  },
  {
   "cell_type": "code",
   "execution_count": null,
   "id": "dd05ab5a",
   "metadata": {},
   "outputs": [],
   "source": []
  },
  {
   "cell_type": "code",
   "execution_count": 31,
   "id": "0c92dbaf",
   "metadata": {},
   "outputs": [
    {
     "data": {
      "text/plain": [
       "(4, 3, 'sudh', [1, 2, 3, 4, 5])"
      ]
     },
     "execution_count": 31,
     "metadata": {},
     "output_type": "execute_result"
    }
   ],
   "source": [
    "test4()"
   ]
  },
  {
   "cell_type": "code",
   "execution_count": 32,
   "id": "95811e82",
   "metadata": {},
   "outputs": [],
   "source": [
    "a = 1\n",
    "b = 5\n",
    "c = \"sudh\"\n",
    "d = [3254,7855,47785,477885,7885]"
   ]
  },
  {
   "cell_type": "code",
   "execution_count": 33,
   "id": "223e1097",
   "metadata": {},
   "outputs": [],
   "source": [
    "a,b,c,d = 34,45,\"sudh\",\"asdfrg\""
   ]
  },
  {
   "cell_type": "code",
   "execution_count": null,
   "id": "ecca9750",
   "metadata": {},
   "outputs": [],
   "source": []
  },
  {
   "cell_type": "code",
   "execution_count": 34,
   "id": "79010f7a",
   "metadata": {},
   "outputs": [],
   "source": [
    "x,y,u,v = test4()"
   ]
  },
  {
   "cell_type": "code",
   "execution_count": 35,
   "id": "8ee54a26",
   "metadata": {},
   "outputs": [
    {
     "data": {
      "text/plain": [
       "4"
      ]
     },
     "execution_count": 35,
     "metadata": {},
     "output_type": "execute_result"
    }
   ],
   "source": [
    "x"
   ]
  },
  {
   "cell_type": "code",
   "execution_count": 36,
   "id": "5549d156",
   "metadata": {},
   "outputs": [
    {
     "data": {
      "text/plain": [
       "3"
      ]
     },
     "execution_count": 36,
     "metadata": {},
     "output_type": "execute_result"
    }
   ],
   "source": [
    "y"
   ]
  },
  {
   "cell_type": "code",
   "execution_count": 37,
   "id": "706c33d0",
   "metadata": {},
   "outputs": [
    {
     "data": {
      "text/plain": [
       "'sudh'"
      ]
     },
     "execution_count": 37,
     "metadata": {},
     "output_type": "execute_result"
    }
   ],
   "source": [
    "u"
   ]
  },
  {
   "cell_type": "code",
   "execution_count": 38,
   "id": "50bde95e",
   "metadata": {},
   "outputs": [
    {
     "data": {
      "text/plain": [
       "[1, 2, 3, 4, 5]"
      ]
     },
     "execution_count": 38,
     "metadata": {},
     "output_type": "execute_result"
    }
   ],
   "source": [
    "v"
   ]
  },
  {
   "cell_type": "code",
   "execution_count": null,
   "id": "28e9765e",
   "metadata": {},
   "outputs": [],
   "source": []
  },
  {
   "cell_type": "code",
   "execution_count": 39,
   "id": "eb3ca025",
   "metadata": {},
   "outputs": [],
   "source": [
    "def test5():\n",
    "    a = 6*7/7\n",
    "    return a"
   ]
  },
  {
   "cell_type": "code",
   "execution_count": 40,
   "id": "69312091",
   "metadata": {},
   "outputs": [
    {
     "data": {
      "text/plain": [
       "6.0"
      ]
     },
     "execution_count": 40,
     "metadata": {},
     "output_type": "execute_result"
    }
   ],
   "source": [
    "test5()"
   ]
  },
  {
   "cell_type": "code",
   "execution_count": null,
   "id": "7c330b10",
   "metadata": {},
   "outputs": [],
   "source": []
  },
  {
   "cell_type": "code",
   "execution_count": 41,
   "id": "e6fdab01",
   "metadata": {},
   "outputs": [],
   "source": [
    "l = [3,4,5,6,7,7,\"sudh\",[1,2,3,4,56]]"
   ]
  },
  {
   "cell_type": "code",
   "execution_count": 44,
   "id": "75b2dd9d",
   "metadata": {},
   "outputs": [],
   "source": [
    "def test6(a):\n",
    "    n = []\n",
    "    if type(a) == list:\n",
    "        for i in a:\n",
    "            if type(i) == int:\n",
    "                n.append(i)\n",
    "                \n",
    "    return n            "
   ]
  },
  {
   "cell_type": "code",
   "execution_count": 43,
   "id": "ce6f7a21",
   "metadata": {},
   "outputs": [
    {
     "data": {
      "text/plain": [
       "34"
      ]
     },
     "execution_count": 43,
     "metadata": {},
     "output_type": "execute_result"
    }
   ],
   "source": [
    "a"
   ]
  },
  {
   "cell_type": "code",
   "execution_count": 51,
   "id": "0f448c93",
   "metadata": {},
   "outputs": [
    {
     "data": {
      "text/plain": [
       "[3, 4, 5, 6, 7, 7]"
      ]
     },
     "execution_count": 51,
     "metadata": {},
     "output_type": "execute_result"
    }
   ],
   "source": [
    "test6(l)"
   ]
  },
  {
   "cell_type": "code",
   "execution_count": 52,
   "id": "6f9cebe8",
   "metadata": {},
   "outputs": [
    {
     "data": {
      "text/plain": [
       "list"
      ]
     },
     "execution_count": 52,
     "metadata": {},
     "output_type": "execute_result"
    }
   ],
   "source": [
    "type(test6(l))"
   ]
  },
  {
   "cell_type": "code",
   "execution_count": 53,
   "id": "b5ef9bbe",
   "metadata": {},
   "outputs": [
    {
     "data": {
      "text/plain": [
       "[2, 3, 4, 5, 6, 7, 8, 9]"
      ]
     },
     "execution_count": 53,
     "metadata": {},
     "output_type": "execute_result"
    }
   ],
   "source": [
    "test6([2,3,4,5,6,7,8,9,\"seferg\",[45,4,5,6,8,7,8],(1,4,7,8,85,5)])"
   ]
  },
  {
   "cell_type": "code",
   "execution_count": null,
   "id": "6cf02302",
   "metadata": {},
   "outputs": [],
   "source": []
  },
  {
   "cell_type": "code",
   "execution_count": 56,
   "id": "0ffb8cf0",
   "metadata": {},
   "outputs": [],
   "source": [
    "def test8(c):\n",
    "    if type(c) == dict:\n",
    "        return c.keys()\n",
    "    else:\n",
    "        return \"you have not passed a dict\""
   ]
  },
  {
   "cell_type": "code",
   "execution_count": 57,
   "id": "79a99af2",
   "metadata": {},
   "outputs": [
    {
     "data": {
      "text/plain": [
       "'you have not passed a dict'"
      ]
     },
     "execution_count": 57,
     "metadata": {},
     "output_type": "execute_result"
    }
   ],
   "source": [
    "test8({\"sfdgd\"})"
   ]
  },
  {
   "cell_type": "code",
   "execution_count": 58,
   "id": "f4738708",
   "metadata": {},
   "outputs": [
    {
     "data": {
      "text/plain": [
       "dict_keys(['a', 'b', 'c'])"
      ]
     },
     "execution_count": 58,
     "metadata": {},
     "output_type": "execute_result"
    }
   ],
   "source": [
    "test8({\"a\":\"dsfdfg\", \"b\":2546, \"c\":[1,4,5,8,6]})"
   ]
  },
  {
   "cell_type": "code",
   "execution_count": null,
   "id": "e7f73eb9",
   "metadata": {},
   "outputs": [],
   "source": []
  },
  {
   "cell_type": "code",
   "execution_count": 59,
   "id": "d4b9cde0",
   "metadata": {},
   "outputs": [],
   "source": [
    "def test9(a,b):\n",
    "    if type(a) == list and type(b) == list:\n",
    "        return a.extend(b)\n",
    "    else:\n",
    "        return \"either of your data is not a list\""
   ]
  },
  {
   "cell_type": "code",
   "execution_count": 60,
   "id": "332c1bac",
   "metadata": {},
   "outputs": [
    {
     "ename": "TypeError",
     "evalue": "test9() missing 1 required positional argument: 'b'",
     "output_type": "error",
     "traceback": [
      "\u001b[1;31m---------------------------------------------------------------------------\u001b[0m",
      "\u001b[1;31mTypeError\u001b[0m                                 Traceback (most recent call last)",
      "\u001b[1;32m~\\AppData\\Local\\Temp/ipykernel_12880/3712449044.py\u001b[0m in \u001b[0;36m<module>\u001b[1;34m\u001b[0m\n\u001b[1;32m----> 1\u001b[1;33m \u001b[0mtest9\u001b[0m\u001b[1;33m(\u001b[0m\u001b[1;36m2457\u001b[0m\u001b[1;33m)\u001b[0m\u001b[1;33m\u001b[0m\u001b[1;33m\u001b[0m\u001b[0m\n\u001b[0m",
      "\u001b[1;31mTypeError\u001b[0m: test9() missing 1 required positional argument: 'b'"
     ]
    }
   ],
   "source": [
    "test9(2457)"
   ]
  },
  {
   "cell_type": "code",
   "execution_count": 67,
   "id": "59de89a3",
   "metadata": {},
   "outputs": [],
   "source": [
    "a = [7,8,7,9,6,5,1,4,1]\n",
    "b = [8,7,5,6,3,3,4,75,9]"
   ]
  },
  {
   "cell_type": "code",
   "execution_count": 68,
   "id": "b2dbf117",
   "metadata": {},
   "outputs": [],
   "source": [
    "test9(a,b)"
   ]
  },
  {
   "cell_type": "code",
   "execution_count": 69,
   "id": "01bd0bda",
   "metadata": {},
   "outputs": [
    {
     "data": {
      "text/plain": [
       "[7, 8, 7, 9, 6, 5, 1, 4, 1, 8, 7, 5, 6, 3, 3, 4, 75, 9]"
      ]
     },
     "execution_count": 69,
     "metadata": {},
     "output_type": "execute_result"
    }
   ],
   "source": [
    "a"
   ]
  },
  {
   "cell_type": "code",
   "execution_count": null,
   "id": "e1e436e1",
   "metadata": {},
   "outputs": [],
   "source": []
  },
  {
   "cell_type": "code",
   "execution_count": 70,
   "id": "5b6a1a78",
   "metadata": {},
   "outputs": [],
   "source": [
    "def test9(a,b):\n",
    "    if type(a) == list and type(b) == list:\n",
    "        a.extend(b)\n",
    "        return a\n",
    "    else:\n",
    "        return \"either of your data is not a list\""
   ]
  },
  {
   "cell_type": "code",
   "execution_count": 71,
   "id": "ac536b84",
   "metadata": {},
   "outputs": [],
   "source": [
    "a = [7,8,7,9,6,5,1,4,1]\n",
    "b = [8,7,5,6,3,3,4,75,9]"
   ]
  },
  {
   "cell_type": "code",
   "execution_count": 72,
   "id": "d75af326",
   "metadata": {},
   "outputs": [
    {
     "data": {
      "text/plain": [
       "[7, 8, 7, 9, 6, 5, 1, 4, 1, 8, 7, 5, 6, 3, 3, 4, 75, 9]"
      ]
     },
     "execution_count": 72,
     "metadata": {},
     "output_type": "execute_result"
    }
   ],
   "source": [
    "test9(a,b)"
   ]
  },
  {
   "cell_type": "code",
   "execution_count": null,
   "id": "4a8807e4",
   "metadata": {},
   "outputs": [],
   "source": []
  },
  {
   "cell_type": "code",
   "execution_count": 73,
   "id": "0e578265",
   "metadata": {},
   "outputs": [],
   "source": [
    "def test10(n):\n",
    "    for i in range(0,n):\n",
    "        for j in range(0, i+1):\n",
    "            print(\"*\",end=\"\")\n",
    "        print(\"\\r\")    "
   ]
  },
  {
   "cell_type": "code",
   "execution_count": 74,
   "id": "f8252d30",
   "metadata": {},
   "outputs": [
    {
     "name": "stdout",
     "output_type": "stream",
     "text": [
      "*\r\n",
      "**\r\n",
      "***\r\n",
      "****\r\n",
      "*****\r\n"
     ]
    }
   ],
   "source": [
    "test10(5)"
   ]
  },
  {
   "cell_type": "code",
   "execution_count": 75,
   "id": "f123fd26",
   "metadata": {},
   "outputs": [],
   "source": [
    "def test10(n):\n",
    "    \"\"\"this is a function which help you to create a tringle with any no of row\"\"\"\n",
    "    for i in range(0,n):\n",
    "        for j in range(0, i+1):\n",
    "            print(\"*\",end=\" \")\n",
    "        print(\"\\r\")    "
   ]
  },
  {
   "cell_type": "code",
   "execution_count": 76,
   "id": "96de776f",
   "metadata": {},
   "outputs": [
    {
     "name": "stdout",
     "output_type": "stream",
     "text": [
      "* \r\n",
      "* * \r\n",
      "* * * \r\n",
      "* * * * \r\n",
      "* * * * * \r\n",
      "* * * * * * \r\n",
      "* * * * * * * \r\n",
      "* * * * * * * * \r\n",
      "* * * * * * * * * \r\n",
      "* * * * * * * * * * \r\n"
     ]
    }
   ],
   "source": [
    "test10(10)"
   ]
  },
  {
   "cell_type": "code",
   "execution_count": 77,
   "id": "1868443c",
   "metadata": {},
   "outputs": [
    {
     "name": "stdout",
     "output_type": "stream",
     "text": [
      "Help on function test10 in module __main__:\n",
      "\n",
      "test10(n)\n",
      "    this is a function which help you to create a tringle with any no of row\n",
      "\n"
     ]
    }
   ],
   "source": [
    "help(test10)"
   ]
  },
  {
   "cell_type": "code",
   "execution_count": 78,
   "id": "32dd854d",
   "metadata": {},
   "outputs": [
    {
     "name": "stdout",
     "output_type": "stream",
     "text": [
      "* \r\n",
      "* * \r\n",
      "* * * \r\n",
      "* * * * \r\n",
      "* * * * * \r\n",
      "Help on NoneType object:\n",
      "\n",
      "class NoneType(object)\n",
      " |  Methods defined here:\n",
      " |  \n",
      " |  __bool__(self, /)\n",
      " |      self != 0\n",
      " |  \n",
      " |  __repr__(self, /)\n",
      " |      Return repr(self).\n",
      " |  \n",
      " |  ----------------------------------------------------------------------\n",
      " |  Static methods defined here:\n",
      " |  \n",
      " |  __new__(*args, **kwargs) from builtins.type\n",
      " |      Create and return a new object.  See help(type) for accurate signature.\n",
      "\n"
     ]
    }
   ],
   "source": [
    "help(test10(5))"
   ]
  },
  {
   "cell_type": "code",
   "execution_count": null,
   "id": "f243f650",
   "metadata": {},
   "outputs": [],
   "source": []
  }
 ],
 "metadata": {
  "kernelspec": {
   "display_name": "Python 3 (ipykernel)",
   "language": "python",
   "name": "python3"
  },
  "language_info": {
   "codemirror_mode": {
    "name": "ipython",
    "version": 3
   },
   "file_extension": ".py",
   "mimetype": "text/x-python",
   "name": "python",
   "nbconvert_exporter": "python",
   "pygments_lexer": "ipython3",
   "version": "3.9.7"
  }
 },
 "nbformat": 4,
 "nbformat_minor": 5
}
