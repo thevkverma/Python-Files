{
 "cells": [
  {
   "cell_type": "markdown",
   "id": "98664725",
   "metadata": {},
   "source": [
    "#### OOPs"
   ]
  },
  {
   "cell_type": "code",
   "execution_count": 1,
   "id": "66049d9f",
   "metadata": {},
   "outputs": [],
   "source": [
    "a = 1"
   ]
  },
  {
   "cell_type": "code",
   "execution_count": 2,
   "id": "6ef1125b",
   "metadata": {},
   "outputs": [
    {
     "name": "stdout",
     "output_type": "stream",
     "text": [
      "<class 'int'>\n"
     ]
    }
   ],
   "source": [
    "print(type(a))"
   ]
  },
  {
   "cell_type": "code",
   "execution_count": 3,
   "id": "625b4ae7",
   "metadata": {},
   "outputs": [
    {
     "name": "stdout",
     "output_type": "stream",
     "text": [
      "<class 'str'>\n"
     ]
    }
   ],
   "source": [
    "print(type(\"ineuron\"))"
   ]
  },
  {
   "cell_type": "code",
   "execution_count": 4,
   "id": "eaa4bb6e",
   "metadata": {},
   "outputs": [],
   "source": [
    "class test:\n",
    "    pass"
   ]
  },
  {
   "cell_type": "code",
   "execution_count": 5,
   "id": "08fde451",
   "metadata": {},
   "outputs": [],
   "source": [
    "a = test()"
   ]
  },
  {
   "cell_type": "code",
   "execution_count": 6,
   "id": "5d49e0fd",
   "metadata": {},
   "outputs": [
    {
     "data": {
      "text/plain": [
       "__main__.test"
      ]
     },
     "execution_count": 6,
     "metadata": {},
     "output_type": "execute_result"
    }
   ],
   "source": [
    "type(a)"
   ]
  },
  {
   "cell_type": "code",
   "execution_count": 7,
   "id": "7679bd92",
   "metadata": {},
   "outputs": [
    {
     "name": "stdout",
     "output_type": "stream",
     "text": [
      "<class '__main__.test'>\n"
     ]
    }
   ],
   "source": [
    "print(type(a))"
   ]
  },
  {
   "cell_type": "code",
   "execution_count": null,
   "id": "e35caea7",
   "metadata": {},
   "outputs": [],
   "source": []
  },
  {
   "cell_type": "code",
   "execution_count": 8,
   "id": "a9497cde",
   "metadata": {},
   "outputs": [],
   "source": [
    "class ineuron:\n",
    "    def welcome_msg(self):\n",
    "        print(\"welcome to ineuron\")"
   ]
  },
  {
   "cell_type": "code",
   "execution_count": 9,
   "id": "90a9228b",
   "metadata": {},
   "outputs": [],
   "source": [
    "rohan = ineuron()"
   ]
  },
  {
   "cell_type": "code",
   "execution_count": 10,
   "id": "5ab91f94",
   "metadata": {},
   "outputs": [
    {
     "name": "stdout",
     "output_type": "stream",
     "text": [
      "<class '__main__.ineuron'>\n"
     ]
    }
   ],
   "source": [
    "print(type(rohan))"
   ]
  },
  {
   "cell_type": "code",
   "execution_count": 11,
   "id": "e924f8ad",
   "metadata": {},
   "outputs": [
    {
     "name": "stdout",
     "output_type": "stream",
     "text": [
      "welcome to ineuron\n"
     ]
    }
   ],
   "source": [
    "rohan.welcome_msg()"
   ]
  },
  {
   "cell_type": "code",
   "execution_count": 12,
   "id": "1aa4bd89",
   "metadata": {},
   "outputs": [],
   "source": [
    "gaurav = ineuron() "
   ]
  },
  {
   "cell_type": "code",
   "execution_count": 13,
   "id": "55aefa20",
   "metadata": {},
   "outputs": [
    {
     "name": "stdout",
     "output_type": "stream",
     "text": [
      "welcome to ineuron\n"
     ]
    }
   ],
   "source": [
    "gaurav.welcome_msg()"
   ]
  },
  {
   "cell_type": "code",
   "execution_count": null,
   "id": "cd0d1e87",
   "metadata": {},
   "outputs": [],
   "source": []
  },
  {
   "cell_type": "code",
   "execution_count": 14,
   "id": "fa4df9e4",
   "metadata": {},
   "outputs": [],
   "source": [
    "class ineuron1:\n",
    "    def __init__(self, phone_number, email_id, student_id):\n",
    "        self.phone_number = phone_number\n",
    "        self.email_id = email_id\n",
    "        self.student_id = student_id\n",
    "        \n",
    "    def return_student_details(self):\n",
    "        return self.student_id, self.phone_number, self.email_id"
   ]
  },
  {
   "cell_type": "code",
   "execution_count": 15,
   "id": "9156dd70",
   "metadata": {},
   "outputs": [],
   "source": [
    "rohan = ineuron1(145878965, \"rohan@gmail.com\", 101)"
   ]
  },
  {
   "cell_type": "code",
   "execution_count": 16,
   "id": "451511ca",
   "metadata": {},
   "outputs": [
    {
     "data": {
      "text/plain": [
       "145878965"
      ]
     },
     "execution_count": 16,
     "metadata": {},
     "output_type": "execute_result"
    }
   ],
   "source": [
    "rohan.phone_number"
   ]
  },
  {
   "cell_type": "code",
   "execution_count": 17,
   "id": "2a59fd5f",
   "metadata": {},
   "outputs": [
    {
     "data": {
      "text/plain": [
       "'rohan@gmail.com'"
      ]
     },
     "execution_count": 17,
     "metadata": {},
     "output_type": "execute_result"
    }
   ],
   "source": [
    "rohan.email_id"
   ]
  },
  {
   "cell_type": "code",
   "execution_count": 18,
   "id": "0f5997e4",
   "metadata": {},
   "outputs": [
    {
     "data": {
      "text/plain": [
       "101"
      ]
     },
     "execution_count": 18,
     "metadata": {},
     "output_type": "execute_result"
    }
   ],
   "source": [
    "rohan.student_id"
   ]
  },
  {
   "cell_type": "code",
   "execution_count": 19,
   "id": "02edaf94",
   "metadata": {},
   "outputs": [
    {
     "data": {
      "text/plain": [
       "(101, 145878965, 'rohan@gmail.com')"
      ]
     },
     "execution_count": 19,
     "metadata": {},
     "output_type": "execute_result"
    }
   ],
   "source": [
    "rohan.return_student_details()"
   ]
  },
  {
   "cell_type": "code",
   "execution_count": 20,
   "id": "d75443ae",
   "metadata": {},
   "outputs": [],
   "source": [
    "gaurav = ineuron1(8794452666, \"gaurav@gmail.com\",103)"
   ]
  },
  {
   "cell_type": "code",
   "execution_count": 21,
   "id": "c01d7406",
   "metadata": {},
   "outputs": [
    {
     "data": {
      "text/plain": [
       "103"
      ]
     },
     "execution_count": 21,
     "metadata": {},
     "output_type": "execute_result"
    }
   ],
   "source": [
    "gaurav.student_id"
   ]
  },
  {
   "cell_type": "code",
   "execution_count": 22,
   "id": "edd0db73",
   "metadata": {},
   "outputs": [
    {
     "data": {
      "text/plain": [
       "(103, 8794452666, 'gaurav@gmail.com')"
      ]
     },
     "execution_count": 22,
     "metadata": {},
     "output_type": "execute_result"
    }
   ],
   "source": [
    "gaurav.return_student_details()"
   ]
  },
  {
   "cell_type": "code",
   "execution_count": null,
   "id": "13978463",
   "metadata": {},
   "outputs": [],
   "source": []
  },
  {
   "cell_type": "code",
   "execution_count": 33,
   "id": "7bf1962f",
   "metadata": {},
   "outputs": [],
   "source": [
    "class ineuron2:\n",
    "    def __init__(self, phone_number, email_id, student_id):\n",
    "        self.phone_number1 = phone_number\n",
    "        self.email_id1 = email_id\n",
    "        self.student_id1 = student_id\n",
    "        \n",
    "    def return_student_details(self):\n",
    "        return self.phone_number1, self.phone_number1, self.email_id1"
   ]
  },
  {
   "cell_type": "code",
   "execution_count": 34,
   "id": "55b2c292",
   "metadata": {},
   "outputs": [],
   "source": [
    "sudh = ineuron2(458799,\"sudh@gmail.com\",105)"
   ]
  },
  {
   "cell_type": "code",
   "execution_count": 35,
   "id": "a361f3d2",
   "metadata": {},
   "outputs": [
    {
     "data": {
      "text/plain": [
       "(458799, 458799, 'sudh@gmail.com')"
      ]
     },
     "execution_count": 35,
     "metadata": {},
     "output_type": "execute_result"
    }
   ],
   "source": [
    "sudh.return_student_details()"
   ]
  },
  {
   "cell_type": "code",
   "execution_count": 36,
   "id": "f64a1e32",
   "metadata": {},
   "outputs": [
    {
     "data": {
      "text/plain": [
       "458799"
      ]
     },
     "execution_count": 36,
     "metadata": {},
     "output_type": "execute_result"
    }
   ],
   "source": [
    "sudh.phone_number1"
   ]
  },
  {
   "cell_type": "code",
   "execution_count": 37,
   "id": "7e5594b7",
   "metadata": {},
   "outputs": [
    {
     "ename": "AttributeError",
     "evalue": "'ineuron2' object has no attribute 'phone_number'",
     "output_type": "error",
     "traceback": [
      "\u001b[1;31m---------------------------------------------------------------------------\u001b[0m",
      "\u001b[1;31mAttributeError\u001b[0m                            Traceback (most recent call last)",
      "\u001b[1;32m~\\AppData\\Local\\Temp/ipykernel_15372/1195022488.py\u001b[0m in \u001b[0;36m<module>\u001b[1;34m\u001b[0m\n\u001b[1;32m----> 1\u001b[1;33m \u001b[0msudh\u001b[0m\u001b[1;33m.\u001b[0m\u001b[0mphone_number\u001b[0m\u001b[1;33m\u001b[0m\u001b[1;33m\u001b[0m\u001b[0m\n\u001b[0m",
      "\u001b[1;31mAttributeError\u001b[0m: 'ineuron2' object has no attribute 'phone_number'"
     ]
    }
   ],
   "source": [
    "sudh.phone_number"
   ]
  },
  {
   "cell_type": "code",
   "execution_count": 38,
   "id": "b74ed4b8",
   "metadata": {},
   "outputs": [
    {
     "data": {
      "text/plain": [
       "105"
      ]
     },
     "execution_count": 38,
     "metadata": {},
     "output_type": "execute_result"
    }
   ],
   "source": [
    "sudh.student_id1"
   ]
  },
  {
   "cell_type": "code",
   "execution_count": null,
   "id": "dcd4d18d",
   "metadata": {},
   "outputs": [],
   "source": []
  },
  {
   "cell_type": "code",
   "execution_count": 39,
   "id": "2ff6ebe9",
   "metadata": {},
   "outputs": [],
   "source": [
    "rohan = ineuron2(345365, \"rohan@gmail.com\" , 324)"
   ]
  },
  {
   "cell_type": "code",
   "execution_count": 40,
   "id": "48e94a6e",
   "metadata": {},
   "outputs": [
    {
     "data": {
      "text/plain": [
       "345365"
      ]
     },
     "execution_count": 40,
     "metadata": {},
     "output_type": "execute_result"
    }
   ],
   "source": [
    "rohan.phone_number1"
   ]
  },
  {
   "cell_type": "markdown",
   "id": "49308b57",
   "metadata": {},
   "source": [
    "#### Polymorphism"
   ]
  },
  {
   "cell_type": "code",
   "execution_count": 41,
   "id": "e245ce25",
   "metadata": {},
   "outputs": [],
   "source": [
    "def  test(a , b):\n",
    "    return a+b"
   ]
  },
  {
   "cell_type": "code",
   "execution_count": 42,
   "id": "3fccdf06",
   "metadata": {},
   "outputs": [
    {
     "data": {
      "text/plain": [
       "7"
      ]
     },
     "execution_count": 42,
     "metadata": {},
     "output_type": "execute_result"
    }
   ],
   "source": [
    "test(3,4)"
   ]
  },
  {
   "cell_type": "code",
   "execution_count": 43,
   "id": "fd438652",
   "metadata": {},
   "outputs": [
    {
     "data": {
      "text/plain": [
       "'sudhKumar'"
      ]
     },
     "execution_count": 43,
     "metadata": {},
     "output_type": "execute_result"
    }
   ],
   "source": [
    "test(\"sudh\",\"Kumar\")"
   ]
  },
  {
   "cell_type": "code",
   "execution_count": 44,
   "id": "ee67600c",
   "metadata": {},
   "outputs": [
    {
     "data": {
      "text/plain": [
       "[3, 4, 5, 7, 8, 45, 77, 88, 99, 66]"
      ]
     },
     "execution_count": 44,
     "metadata": {},
     "output_type": "execute_result"
    }
   ],
   "source": [
    "test([3,4,5,7,8],[45,77,88,99,66])"
   ]
  },
  {
   "cell_type": "code",
   "execution_count": null,
   "id": "e3cf30be",
   "metadata": {},
   "outputs": [],
   "source": []
  },
  {
   "cell_type": "code",
   "execution_count": 45,
   "id": "f676f12a",
   "metadata": {},
   "outputs": [],
   "source": [
    "class data_science:\n",
    "    def syll(self):\n",
    "        print(\"this is my syllabus for data science\")"
   ]
  },
  {
   "cell_type": "code",
   "execution_count": 46,
   "id": "dce9fd41",
   "metadata": {},
   "outputs": [],
   "source": [
    "class web_dev:\n",
    "    def syll(self):\n",
    "        print(\"this is my syllabus for web dev\")"
   ]
  },
  {
   "cell_type": "code",
   "execution_count": 47,
   "id": "9dcdec2a",
   "metadata": {},
   "outputs": [],
   "source": [
    "def class_parcer(class_obj):\n",
    "    for i in class_obj:\n",
    "        i.syll()"
   ]
  },
  {
   "cell_type": "code",
   "execution_count": 48,
   "id": "945ebbc7",
   "metadata": {},
   "outputs": [],
   "source": [
    "data_science = data_science()"
   ]
  },
  {
   "cell_type": "code",
   "execution_count": 49,
   "id": "e00dcd81",
   "metadata": {},
   "outputs": [],
   "source": [
    "web_dev = web_dev()"
   ]
  },
  {
   "cell_type": "code",
   "execution_count": 50,
   "id": "5c711776",
   "metadata": {},
   "outputs": [],
   "source": [
    "class_obj = [data_science, web_dev]"
   ]
  },
  {
   "cell_type": "code",
   "execution_count": 51,
   "id": "65d7732c",
   "metadata": {},
   "outputs": [
    {
     "name": "stdout",
     "output_type": "stream",
     "text": [
      "this is my syllabus for data science\n",
      "this is my syllabus for web dev\n"
     ]
    }
   ],
   "source": [
    "class_parcer(class_obj)"
   ]
  },
  {
   "cell_type": "markdown",
   "id": "3a06e61f",
   "metadata": {},
   "source": [
    "#### Encapsulation"
   ]
  },
  {
   "cell_type": "code",
   "execution_count": 52,
   "id": "83df9b41",
   "metadata": {},
   "outputs": [],
   "source": [
    "class test:\n",
    "    def __init__(self, a, b):\n",
    "        self.a = a\n",
    "        self.b = b"
   ]
  },
  {
   "cell_type": "code",
   "execution_count": 53,
   "id": "41195dc7",
   "metadata": {},
   "outputs": [],
   "source": [
    "t = test(32,34)"
   ]
  },
  {
   "cell_type": "code",
   "execution_count": 54,
   "id": "50c59a1b",
   "metadata": {},
   "outputs": [],
   "source": [
    "t.a = 234565"
   ]
  },
  {
   "cell_type": "code",
   "execution_count": 55,
   "id": "cdc3b5a1",
   "metadata": {},
   "outputs": [
    {
     "data": {
      "text/plain": [
       "234565"
      ]
     },
     "execution_count": 55,
     "metadata": {},
     "output_type": "execute_result"
    }
   ],
   "source": [
    "t.a"
   ]
  },
  {
   "cell_type": "code",
   "execution_count": null,
   "id": "af94d779",
   "metadata": {},
   "outputs": [],
   "source": []
  },
  {
   "cell_type": "code",
   "execution_count": 56,
   "id": "47da799d",
   "metadata": {},
   "outputs": [],
   "source": [
    "class car:\n",
    "    def __init__(self, year, make, model, speed):\n",
    "        self.__year = year\n",
    "        self.__make = make\n",
    "        self.__model = model\n",
    "        self.__speed = 0\n",
    "        \n",
    "    def set_speed(self, speed):\n",
    "        self.__speed = 0 if speed < 0 else speed\n",
    "        \n",
    "    def get_speed(self):\n",
    "        return self.__speed"
   ]
  },
  {
   "cell_type": "code",
   "execution_count": 57,
   "id": "a6ffbc23",
   "metadata": {},
   "outputs": [],
   "source": [
    "c = car(2021, \"toyata\", \"innova\", 12)"
   ]
  },
  {
   "cell_type": "code",
   "execution_count": 58,
   "id": "d892930f",
   "metadata": {},
   "outputs": [
    {
     "data": {
      "text/plain": [
       "2021"
      ]
     },
     "execution_count": 58,
     "metadata": {},
     "output_type": "execute_result"
    }
   ],
   "source": [
    "c._car__year"
   ]
  },
  {
   "cell_type": "code",
   "execution_count": 59,
   "id": "b5255fa6",
   "metadata": {},
   "outputs": [
    {
     "ename": "AttributeError",
     "evalue": "'car' object has no attribute 'year'",
     "output_type": "error",
     "traceback": [
      "\u001b[1;31m---------------------------------------------------------------------------\u001b[0m",
      "\u001b[1;31mAttributeError\u001b[0m                            Traceback (most recent call last)",
      "\u001b[1;32m~\\AppData\\Local\\Temp/ipykernel_15372/4006134625.py\u001b[0m in \u001b[0;36m<module>\u001b[1;34m\u001b[0m\n\u001b[1;32m----> 1\u001b[1;33m \u001b[0mc\u001b[0m\u001b[1;33m.\u001b[0m\u001b[0myear\u001b[0m\u001b[1;33m\u001b[0m\u001b[1;33m\u001b[0m\u001b[0m\n\u001b[0m",
      "\u001b[1;31mAttributeError\u001b[0m: 'car' object has no attribute 'year'"
     ]
    }
   ],
   "source": [
    "c.year"
   ]
  },
  {
   "cell_type": "code",
   "execution_count": 60,
   "id": "c4d2aa42",
   "metadata": {},
   "outputs": [],
   "source": [
    "c.set_speed(-3455)"
   ]
  },
  {
   "cell_type": "code",
   "execution_count": 61,
   "id": "350c7063",
   "metadata": {},
   "outputs": [
    {
     "data": {
      "text/plain": [
       "0"
      ]
     },
     "execution_count": 61,
     "metadata": {},
     "output_type": "execute_result"
    }
   ],
   "source": [
    "c.get_speed()"
   ]
  },
  {
   "cell_type": "code",
   "execution_count": 62,
   "id": "c5243a62",
   "metadata": {},
   "outputs": [],
   "source": [
    "c.set_speed(234)"
   ]
  },
  {
   "cell_type": "code",
   "execution_count": 64,
   "id": "9e3f96d0",
   "metadata": {},
   "outputs": [
    {
     "data": {
      "text/plain": [
       "234"
      ]
     },
     "execution_count": 64,
     "metadata": {},
     "output_type": "execute_result"
    }
   ],
   "source": [
    "c.get_speed()"
   ]
  },
  {
   "cell_type": "code",
   "execution_count": null,
   "id": "e6f16541",
   "metadata": {},
   "outputs": [],
   "source": []
  },
  {
   "cell_type": "code",
   "execution_count": 65,
   "id": "116ca1fe",
   "metadata": {},
   "outputs": [],
   "source": [
    "class bank_account : \n",
    "    def __init__(self , balance) : \n",
    "        self.__balanace = balance \n",
    "        \n",
    "    def deposit(self , amount) : \n",
    "        self.__balanace = self.__balanace + amount\n",
    "        \n",
    "    def withdaw(self ,amount) : \n",
    "        if self.__balanace >= amount :\n",
    "            self.__balanace = self.__balanace - amount\n",
    "            return True\n",
    "        else : \n",
    "            return False\n",
    "    \n",
    "    def get_banalnce(self):\n",
    "        return self.__balanace"
   ]
  },
  {
   "cell_type": "code",
   "execution_count": 66,
   "id": "cbe451f1",
   "metadata": {},
   "outputs": [],
   "source": [
    "sudh = bank_account(1000)"
   ]
  },
  {
   "cell_type": "code",
   "execution_count": 67,
   "id": "a61bc80f",
   "metadata": {},
   "outputs": [
    {
     "data": {
      "text/plain": [
       "1000"
      ]
     },
     "execution_count": 67,
     "metadata": {},
     "output_type": "execute_result"
    }
   ],
   "source": [
    "sudh.get_banalnce()"
   ]
  },
  {
   "cell_type": "code",
   "execution_count": 68,
   "id": "c93b8bd6",
   "metadata": {},
   "outputs": [],
   "source": [
    "sudh.deposit(5000)"
   ]
  },
  {
   "cell_type": "code",
   "execution_count": 69,
   "id": "98d379f7",
   "metadata": {},
   "outputs": [
    {
     "data": {
      "text/plain": [
       "6000"
      ]
     },
     "execution_count": 69,
     "metadata": {},
     "output_type": "execute_result"
    }
   ],
   "source": [
    "sudh.get_banalnce()"
   ]
  },
  {
   "cell_type": "code",
   "execution_count": 70,
   "id": "72ab98ef",
   "metadata": {},
   "outputs": [],
   "source": [
    "sudh.deposit(1000)"
   ]
  },
  {
   "cell_type": "code",
   "execution_count": 71,
   "id": "039c6a13",
   "metadata": {},
   "outputs": [
    {
     "data": {
      "text/plain": [
       "7000"
      ]
     },
     "execution_count": 71,
     "metadata": {},
     "output_type": "execute_result"
    }
   ],
   "source": [
    "sudh.get_banalnce()"
   ]
  },
  {
   "cell_type": "code",
   "execution_count": 72,
   "id": "0a07f351",
   "metadata": {},
   "outputs": [
    {
     "data": {
      "text/plain": [
       "False"
      ]
     },
     "execution_count": 72,
     "metadata": {},
     "output_type": "execute_result"
    }
   ],
   "source": [
    "sudh.withdaw(9000)"
   ]
  },
  {
   "cell_type": "code",
   "execution_count": 73,
   "id": "76171218",
   "metadata": {},
   "outputs": [
    {
     "data": {
      "text/plain": [
       "True"
      ]
     },
     "execution_count": 73,
     "metadata": {},
     "output_type": "execute_result"
    }
   ],
   "source": [
    "sudh.withdaw(2000)"
   ]
  },
  {
   "cell_type": "code",
   "execution_count": 74,
   "id": "9779667f",
   "metadata": {},
   "outputs": [
    {
     "data": {
      "text/plain": [
       "5000"
      ]
     },
     "execution_count": 74,
     "metadata": {},
     "output_type": "execute_result"
    }
   ],
   "source": [
    "sudh.get_banalnce()"
   ]
  },
  {
   "cell_type": "markdown",
   "id": "cf733081",
   "metadata": {},
   "source": [
    "#### Inheritance"
   ]
  },
  {
   "cell_type": "code",
   "execution_count": 75,
   "id": "1009be3e",
   "metadata": {},
   "outputs": [],
   "source": [
    "class parent:\n",
    "    \n",
    "    def test_parent(self):\n",
    "        print(\"this is my parent class\")"
   ]
  },
  {
   "cell_type": "code",
   "execution_count": 76,
   "id": "d9d5cf97",
   "metadata": {},
   "outputs": [],
   "source": [
    "class child(parent):\n",
    "    pass"
   ]
  },
  {
   "cell_type": "code",
   "execution_count": 77,
   "id": "44242b78",
   "metadata": {},
   "outputs": [],
   "source": [
    "child_obj = child()"
   ]
  },
  {
   "cell_type": "code",
   "execution_count": 78,
   "id": "ad1ce157",
   "metadata": {},
   "outputs": [
    {
     "name": "stdout",
     "output_type": "stream",
     "text": [
      "this is my parent class\n"
     ]
    }
   ],
   "source": [
    "child_obj.test_parent()"
   ]
  },
  {
   "cell_type": "code",
   "execution_count": null,
   "id": "c6a9b3c2",
   "metadata": {},
   "outputs": [],
   "source": []
  },
  {
   "cell_type": "code",
   "execution_count": 79,
   "id": "6ced88c9",
   "metadata": {},
   "outputs": [],
   "source": [
    "class class1:\n",
    "    def test_class1(self):\n",
    "        print(\"this is my class1\")"
   ]
  },
  {
   "cell_type": "code",
   "execution_count": 80,
   "id": "89234780",
   "metadata": {},
   "outputs": [],
   "source": [
    "class class2(class1):\n",
    "    def test_class2(self):\n",
    "        print(\"this is my class2\")"
   ]
  },
  {
   "cell_type": "code",
   "execution_count": 81,
   "id": "bafb422e",
   "metadata": {},
   "outputs": [],
   "source": [
    "class class3(class2):\n",
    "    def test_class3(self):\n",
    "        print(\"this is my class3\")"
   ]
  },
  {
   "cell_type": "code",
   "execution_count": 82,
   "id": "3086b94e",
   "metadata": {},
   "outputs": [],
   "source": [
    "obj_class3 = class3()"
   ]
  },
  {
   "cell_type": "code",
   "execution_count": 83,
   "id": "af84b374",
   "metadata": {},
   "outputs": [
    {
     "name": "stdout",
     "output_type": "stream",
     "text": [
      "this is my class1\n"
     ]
    }
   ],
   "source": [
    "obj_class3.test_class1()"
   ]
  },
  {
   "cell_type": "code",
   "execution_count": 84,
   "id": "94a1dd49",
   "metadata": {},
   "outputs": [
    {
     "name": "stdout",
     "output_type": "stream",
     "text": [
      "this is my class2\n"
     ]
    }
   ],
   "source": [
    "obj_class3.test_class2()"
   ]
  },
  {
   "cell_type": "code",
   "execution_count": 85,
   "id": "61cf8e98",
   "metadata": {},
   "outputs": [
    {
     "name": "stdout",
     "output_type": "stream",
     "text": [
      "this is my class3\n"
     ]
    }
   ],
   "source": [
    "obj_class3.test_class3()"
   ]
  },
  {
   "cell_type": "code",
   "execution_count": null,
   "id": "62e23664",
   "metadata": {},
   "outputs": [],
   "source": []
  },
  {
   "cell_type": "code",
   "execution_count": 86,
   "id": "8e4a20f1",
   "metadata": {},
   "outputs": [],
   "source": [
    "class class1:\n",
    "    def test_class1(self):\n",
    "        print(\"this is my class 1\")"
   ]
  },
  {
   "cell_type": "code",
   "execution_count": 87,
   "id": "4dfd93bd",
   "metadata": {},
   "outputs": [],
   "source": [
    "class class2:\n",
    "    def test_class2(self):\n",
    "        print(\"this is my class 2\")"
   ]
  },
  {
   "cell_type": "code",
   "execution_count": 88,
   "id": "c7ad09dc",
   "metadata": {},
   "outputs": [],
   "source": [
    "class class3(class1, class2):\n",
    "    pass"
   ]
  },
  {
   "cell_type": "code",
   "execution_count": 89,
   "id": "8a44ce35",
   "metadata": {},
   "outputs": [],
   "source": [
    "obj_class3 = class3()"
   ]
  },
  {
   "cell_type": "code",
   "execution_count": 90,
   "id": "3512c1c4",
   "metadata": {},
   "outputs": [
    {
     "name": "stdout",
     "output_type": "stream",
     "text": [
      "this is my class 1\n"
     ]
    }
   ],
   "source": [
    "obj_class3.test_class1()"
   ]
  },
  {
   "cell_type": "code",
   "execution_count": 91,
   "id": "ec0b1608",
   "metadata": {},
   "outputs": [
    {
     "name": "stdout",
     "output_type": "stream",
     "text": [
      "this is my class 2\n"
     ]
    }
   ],
   "source": [
    "obj_class3.test_class2()"
   ]
  },
  {
   "cell_type": "markdown",
   "id": "80b10661",
   "metadata": {},
   "source": [
    "#### Abstraction"
   ]
  },
  {
   "cell_type": "code",
   "execution_count": 106,
   "id": "f9b11dbf",
   "metadata": {},
   "outputs": [],
   "source": [
    "import abc\n",
    "class ineuron5:\n",
    "    \n",
    "    @abc.abstractmethod\n",
    "    def students_detials(self):\n",
    "        pass\n",
    "    \n",
    "    @abc.abstractmethod\n",
    "    def student_assignemnt(self):\n",
    "        pass\n",
    "    \n",
    "    @abc.abstractmethod\n",
    "    def student_marks(self):\n",
    "        pass"
   ]
  },
  {
   "cell_type": "code",
   "execution_count": 107,
   "id": "f7fc739c",
   "metadata": {},
   "outputs": [],
   "source": [
    "class student_detils(ineuron5):\n",
    "    \n",
    "    def students_detials(self):\n",
    "        return \"this is a meth for taking students details\"\n",
    "    \n",
    "    def student_assignemnt(self):\n",
    "        return \"this is a meth for assing details for a perticualt student\""
   ]
  },
  {
   "cell_type": "code",
   "execution_count": 110,
   "id": "195c81fa",
   "metadata": {},
   "outputs": [],
   "source": [
    "class data_science_maters(ineuron5):\n",
    "    \n",
    "    def students_detials(self):\n",
    "        return \"this will return a student details for data science masters \"\n",
    "    \n",
    "    def student_assignemnt(self):\n",
    "        return \"this will give you a studnt assignment detaild for data science masters \""
   ]
  },
  {
   "cell_type": "code",
   "execution_count": 112,
   "id": "1fc1ebbb",
   "metadata": {},
   "outputs": [
    {
     "data": {
      "text/plain": [
       "'this will return a student details for data science masters '"
      ]
     },
     "execution_count": 112,
     "metadata": {},
     "output_type": "execute_result"
    }
   ],
   "source": [
    "dsm = data_science_maters()\n",
    "dsm.students_detials()"
   ]
  },
  {
   "cell_type": "code",
   "execution_count": 113,
   "id": "fd595f11",
   "metadata": {},
   "outputs": [
    {
     "data": {
      "text/plain": [
       "'this is a method for taking students details'"
      ]
     },
     "execution_count": 113,
     "metadata": {},
     "output_type": "execute_result"
    }
   ],
   "source": [
    "sd = student_details()\n",
    "sd.student_details()"
   ]
  },
  {
   "cell_type": "markdown",
   "id": "2901e40a",
   "metadata": {},
   "source": [
    "#### Decorators"
   ]
  },
  {
   "cell_type": "code",
   "execution_count": 114,
   "id": "b9f2f6e8",
   "metadata": {},
   "outputs": [],
   "source": [
    "def test():\n",
    "    print(\"this is the start of my fun\")\n",
    "    print(\"this is my fun to test\")\n",
    "    print(4+5)\n",
    "    print(\"this is the end of my fun\")"
   ]
  },
  {
   "cell_type": "code",
   "execution_count": 115,
   "id": "e66a11ec",
   "metadata": {},
   "outputs": [
    {
     "name": "stdout",
     "output_type": "stream",
     "text": [
      "this is the start of my fun\n",
      "this is my fun to test\n",
      "9\n",
      "this is the end of my fun\n"
     ]
    }
   ],
   "source": [
    "test()"
   ]
  },
  {
   "cell_type": "code",
   "execution_count": null,
   "id": "d44a8a74",
   "metadata": {},
   "outputs": [],
   "source": []
  },
  {
   "cell_type": "code",
   "execution_count": 116,
   "id": "585b6c6d",
   "metadata": {},
   "outputs": [],
   "source": [
    "def deco(func):\n",
    "    def inner_dec():\n",
    "        print(\"this is the start of my fun\")\n",
    "        func()\n",
    "        print(\"this is the end of my fun\")\n",
    "        \n",
    "    return inner_dec    "
   ]
  },
  {
   "cell_type": "code",
   "execution_count": 117,
   "id": "94c972e5",
   "metadata": {},
   "outputs": [],
   "source": [
    "@deco\n",
    "def test1():\n",
    "    print(6+7)"
   ]
  },
  {
   "cell_type": "code",
   "execution_count": 118,
   "id": "80669a07",
   "metadata": {},
   "outputs": [
    {
     "name": "stdout",
     "output_type": "stream",
     "text": [
      "this is the start of my fun\n",
      "13\n",
      "this is the end of my fun\n"
     ]
    }
   ],
   "source": [
    "test1()"
   ]
  },
  {
   "cell_type": "code",
   "execution_count": null,
   "id": "d727d29d",
   "metadata": {},
   "outputs": [],
   "source": []
  },
  {
   "cell_type": "code",
   "execution_count": 119,
   "id": "821929ec",
   "metadata": {},
   "outputs": [],
   "source": [
    "import time \n",
    "\n",
    "def timer_test(func):\n",
    "    def timer_test_inner ():\n",
    "        start = time.time()\n",
    "        func()\n",
    "        end = time.time()\n",
    "        print(end -start)\n",
    "    return timer_test_inner"
   ]
  },
  {
   "cell_type": "code",
   "execution_count": 120,
   "id": "06661916",
   "metadata": {},
   "outputs": [],
   "source": [
    "def test2():\n",
    "    print(45+78)"
   ]
  },
  {
   "cell_type": "code",
   "execution_count": 121,
   "id": "27b142fe",
   "metadata": {},
   "outputs": [
    {
     "name": "stdout",
     "output_type": "stream",
     "text": [
      "123\n"
     ]
    }
   ],
   "source": [
    "test2()"
   ]
  },
  {
   "cell_type": "code",
   "execution_count": 122,
   "id": "c05ad224",
   "metadata": {},
   "outputs": [],
   "source": [
    "@timer_test\n",
    "def test2():\n",
    "    print(45+78)"
   ]
  },
  {
   "cell_type": "code",
   "execution_count": 123,
   "id": "893184bd",
   "metadata": {},
   "outputs": [
    {
     "name": "stdout",
     "output_type": "stream",
     "text": [
      "123\n",
      "0.0\n"
     ]
    }
   ],
   "source": [
    "test2()"
   ]
  },
  {
   "cell_type": "code",
   "execution_count": 124,
   "id": "302157d8",
   "metadata": {},
   "outputs": [],
   "source": [
    "@timer_test\n",
    "def test():\n",
    "    for i in range(100000000):\n",
    "        pass"
   ]
  },
  {
   "cell_type": "code",
   "execution_count": 125,
   "id": "5885a961",
   "metadata": {},
   "outputs": [
    {
     "name": "stdout",
     "output_type": "stream",
     "text": [
      "1.9069299697875977\n"
     ]
    }
   ],
   "source": [
    "test()"
   ]
  },
  {
   "cell_type": "markdown",
   "id": "f93d79b7",
   "metadata": {},
   "source": [
    "#### Class Methods"
   ]
  },
  {
   "cell_type": "code",
   "execution_count": 126,
   "id": "5b015c72",
   "metadata": {},
   "outputs": [],
   "source": [
    "class ineuron:\n",
    "    \n",
    "    def __init__(self, name, email):\n",
    "        self.name = name\n",
    "        self.email = email\n",
    "        \n",
    "    def students_details(self):\n",
    "        print(self.name, self.email)"
   ]
  },
  {
   "cell_type": "code",
   "execution_count": 127,
   "id": "d59a3a4f",
   "metadata": {},
   "outputs": [],
   "source": [
    "inu = ineuron(\"mohan\", \"mohan@gmail.com\")"
   ]
  },
  {
   "cell_type": "code",
   "execution_count": 128,
   "id": "b3eb9fce",
   "metadata": {},
   "outputs": [
    {
     "data": {
      "text/plain": [
       "'mohan'"
      ]
     },
     "execution_count": 128,
     "metadata": {},
     "output_type": "execute_result"
    }
   ],
   "source": [
    "inu.name"
   ]
  },
  {
   "cell_type": "code",
   "execution_count": 129,
   "id": "88e0caad",
   "metadata": {},
   "outputs": [
    {
     "data": {
      "text/plain": [
       "'mohan@gmail.com'"
      ]
     },
     "execution_count": 129,
     "metadata": {},
     "output_type": "execute_result"
    }
   ],
   "source": [
    "inu.email"
   ]
  },
  {
   "cell_type": "code",
   "execution_count": 130,
   "id": "c321ed78",
   "metadata": {},
   "outputs": [
    {
     "name": "stdout",
     "output_type": "stream",
     "text": [
      "mohan mohan@gmail.com\n"
     ]
    }
   ],
   "source": [
    "inu.students_details()"
   ]
  },
  {
   "cell_type": "code",
   "execution_count": null,
   "id": "163349d3",
   "metadata": {},
   "outputs": [],
   "source": []
  },
  {
   "cell_type": "code",
   "execution_count": 131,
   "id": "2a99b87c",
   "metadata": {},
   "outputs": [],
   "source": [
    "class ineuron1:\n",
    "    \n",
    "    def __init__(self, name, email):\n",
    "        self.name = name\n",
    "        self.email = email\n",
    "        \n",
    "    @classmethod\n",
    "    def details(cls, name, email):\n",
    "        return cls(name, email)\n",
    "        \n",
    "    def students_details(self):\n",
    "        print(self.name, self.email)"
   ]
  },
  {
   "cell_type": "code",
   "execution_count": 132,
   "id": "6df4e187",
   "metadata": {},
   "outputs": [],
   "source": [
    "inu1 = ineuron1.details(\"sudh\", \"sudh@gmial.com\")"
   ]
  },
  {
   "cell_type": "code",
   "execution_count": 133,
   "id": "22a742ab",
   "metadata": {},
   "outputs": [
    {
     "data": {
      "text/plain": [
       "'sudh'"
      ]
     },
     "execution_count": 133,
     "metadata": {},
     "output_type": "execute_result"
    }
   ],
   "source": [
    "inu1.name"
   ]
  },
  {
   "cell_type": "code",
   "execution_count": 135,
   "id": "20284ced",
   "metadata": {},
   "outputs": [
    {
     "data": {
      "text/plain": [
       "'sudh@gmial.com'"
      ]
     },
     "execution_count": 135,
     "metadata": {},
     "output_type": "execute_result"
    }
   ],
   "source": [
    "inu1.email"
   ]
  },
  {
   "cell_type": "code",
   "execution_count": 136,
   "id": "f4b2ab7b",
   "metadata": {},
   "outputs": [
    {
     "name": "stdout",
     "output_type": "stream",
     "text": [
      "sudh sudh@gmial.com\n"
     ]
    }
   ],
   "source": [
    "inu1.students_details()"
   ]
  },
  {
   "cell_type": "code",
   "execution_count": null,
   "id": "c0b9f558",
   "metadata": {},
   "outputs": [],
   "source": []
  },
  {
   "cell_type": "code",
   "execution_count": 149,
   "id": "f6a60967",
   "metadata": {},
   "outputs": [],
   "source": [
    "class ineuron2:\n",
    "    \n",
    "    mobile_num = 98576321789\n",
    "    \n",
    "    def __init__(self, name, email):\n",
    "        self.name = name\n",
    "        self.email = email\n",
    "        \n",
    "    @classmethod\n",
    "    def change_number(cls, mobile):\n",
    "        ineuron2.mobile_num = mobile\n",
    "        \n",
    "    @classmethod\n",
    "    def details(cls, name, email):\n",
    "        return cls(name, email)\n",
    "        \n",
    "    def students_details(self):\n",
    "        print(self.name, self.email, ineuron2.mobile_num)"
   ]
  },
  {
   "cell_type": "code",
   "execution_count": 150,
   "id": "557b0b3e",
   "metadata": {},
   "outputs": [],
   "source": [
    "inu2 = ineuron2.details(\"rohan\", \"rohan@gmail.com\")"
   ]
  },
  {
   "cell_type": "code",
   "execution_count": 151,
   "id": "ea534e29",
   "metadata": {},
   "outputs": [
    {
     "name": "stdout",
     "output_type": "stream",
     "text": [
      "rohan rohan@gmail.com 98576321789\n"
     ]
    }
   ],
   "source": [
    "inu2.students_details()"
   ]
  },
  {
   "cell_type": "code",
   "execution_count": 152,
   "id": "e14246a8",
   "metadata": {},
   "outputs": [],
   "source": [
    "inu_obj = ineuron2(\"sudh\", \"sudh@gmail.com\")"
   ]
  },
  {
   "cell_type": "code",
   "execution_count": 153,
   "id": "25f14663",
   "metadata": {},
   "outputs": [
    {
     "name": "stdout",
     "output_type": "stream",
     "text": [
      "sudh sudh@gmail.com 98576321789\n"
     ]
    }
   ],
   "source": [
    "inu_obj.students_details()"
   ]
  },
  {
   "cell_type": "code",
   "execution_count": 154,
   "id": "3892ecb3",
   "metadata": {},
   "outputs": [],
   "source": [
    "ineuron2.change_number(85633214789)"
   ]
  },
  {
   "cell_type": "code",
   "execution_count": 155,
   "id": "7805bf64",
   "metadata": {},
   "outputs": [
    {
     "data": {
      "text/plain": [
       "85633214789"
      ]
     },
     "execution_count": 155,
     "metadata": {},
     "output_type": "execute_result"
    }
   ],
   "source": [
    "ineuron2.mobile_num"
   ]
  },
  {
   "cell_type": "code",
   "execution_count": null,
   "id": "0662ed72",
   "metadata": {},
   "outputs": [],
   "source": []
  },
  {
   "cell_type": "code",
   "execution_count": 156,
   "id": "ecfaf776",
   "metadata": {},
   "outputs": [],
   "source": [
    "class ineuron3 : \n",
    "    \n",
    "    mobile_num = 912342424\n",
    "    \n",
    "    def __init__(self , name , email) :\n",
    "        \n",
    "        self.name = name \n",
    "        self.email = email\n",
    "    \n",
    "    @classmethod\n",
    "    def change_number(cls, mobile):\n",
    "        ineuron3.mobile_num = mobile\n",
    "    \n",
    "    @classmethod\n",
    "    def details(cls ,name, email ):\n",
    "        return cls(name , email)\n",
    "        \n",
    "    def students_details(self):\n",
    "        print(self.name , self.email,ineuron3.mobile_num)"
   ]
  },
  {
   "cell_type": "code",
   "execution_count": 157,
   "id": "a7b52ff7",
   "metadata": {},
   "outputs": [],
   "source": [
    "def course_details(cls,course_name) : \n",
    "    print(\"course name is \" , course_name)"
   ]
  },
  {
   "cell_type": "code",
   "execution_count": 158,
   "id": "7ebaeed9",
   "metadata": {},
   "outputs": [],
   "source": [
    "ineuron3.course_details = classmethod(course_details)"
   ]
  },
  {
   "cell_type": "code",
   "execution_count": 159,
   "id": "bef25e05",
   "metadata": {},
   "outputs": [
    {
     "name": "stdout",
     "output_type": "stream",
     "text": [
      "course name is  data science masters \n"
     ]
    }
   ],
   "source": [
    "ineuron3.course_details(\"data science masters \")"
   ]
  },
  {
   "cell_type": "code",
   "execution_count": 160,
   "id": "6122a031",
   "metadata": {},
   "outputs": [],
   "source": [
    "def mentor(cls , list_of_mentor) : \n",
    "    print(list_of_mentor)"
   ]
  },
  {
   "cell_type": "code",
   "execution_count": 161,
   "id": "fa13f32b",
   "metadata": {},
   "outputs": [],
   "source": [
    "ineuron3.mentor = classmethod(mentor)"
   ]
  },
  {
   "cell_type": "code",
   "execution_count": 162,
   "id": "481355da",
   "metadata": {},
   "outputs": [
    {
     "name": "stdout",
     "output_type": "stream",
     "text": [
      "['sudhanshu ', 'krish naik']\n"
     ]
    }
   ],
   "source": [
    "ineuron3.mentor([\"sudhanshu \" , \"krish naik\"])"
   ]
  },
  {
   "cell_type": "code",
   "execution_count": null,
   "id": "ce3308f6",
   "metadata": {},
   "outputs": [],
   "source": []
  },
  {
   "cell_type": "code",
   "execution_count": 163,
   "id": "ac258a92",
   "metadata": {},
   "outputs": [],
   "source": [
    "class ineuron4 : \n",
    "    \n",
    "    mobile_num = 912342424\n",
    "    \n",
    "    def __init__(self , name , email) :\n",
    "        \n",
    "        self.name = name \n",
    "        self.email = email\n",
    "    \n",
    "    @classmethod\n",
    "    def change_number(cls, mobile):\n",
    "        ineuron4.mobile_num = mobile\n",
    "    \n",
    "    @classmethod\n",
    "    def details(cls ,name, email ):\n",
    "        return cls(name , email)\n",
    "        \n",
    "    def students_details(self):\n",
    "        print(self.name , self.email,ineuron4.mobile_num)"
   ]
  },
  {
   "cell_type": "code",
   "execution_count": 165,
   "id": "5117cd71",
   "metadata": {},
   "outputs": [],
   "source": [
    "del ineuron4.change_number"
   ]
  },
  {
   "cell_type": "code",
   "execution_count": 166,
   "id": "f26169cf",
   "metadata": {},
   "outputs": [],
   "source": [
    "delattr(ineuron4, \"details\")"
   ]
  },
  {
   "cell_type": "code",
   "execution_count": 167,
   "id": "32050308",
   "metadata": {},
   "outputs": [],
   "source": [
    "delattr(ineuron4 ,\"students_details\")"
   ]
  },
  {
   "cell_type": "code",
   "execution_count": 168,
   "id": "bfca7179",
   "metadata": {},
   "outputs": [],
   "source": [
    "delattr(ineuron4, \"mobile_num\")"
   ]
  },
  {
   "cell_type": "code",
   "execution_count": 169,
   "id": "8be792a9",
   "metadata": {},
   "outputs": [
    {
     "ename": "AttributeError",
     "evalue": "type object 'ineuron4' has no attribute 'change_number'",
     "output_type": "error",
     "traceback": [
      "\u001b[1;31m---------------------------------------------------------------------------\u001b[0m",
      "\u001b[1;31mAttributeError\u001b[0m                            Traceback (most recent call last)",
      "\u001b[1;32m~\\AppData\\Local\\Temp/ipykernel_15372/1328934833.py\u001b[0m in \u001b[0;36m<module>\u001b[1;34m\u001b[0m\n\u001b[1;32m----> 1\u001b[1;33m \u001b[0mineuron4\u001b[0m\u001b[1;33m.\u001b[0m\u001b[0mchange_number\u001b[0m\u001b[1;33m(\u001b[0m\u001b[1;36m896654\u001b[0m\u001b[1;33m)\u001b[0m\u001b[1;33m\u001b[0m\u001b[1;33m\u001b[0m\u001b[0m\n\u001b[0m",
      "\u001b[1;31mAttributeError\u001b[0m: type object 'ineuron4' has no attribute 'change_number'"
     ]
    }
   ],
   "source": [
    "ineuron4.change_number(896654)"
   ]
  },
  {
   "cell_type": "markdown",
   "id": "c0e61862",
   "metadata": {},
   "source": [
    "#### Static Method"
   ]
  },
  {
   "cell_type": "code",
   "execution_count": 170,
   "id": "3f503c6c",
   "metadata": {},
   "outputs": [],
   "source": [
    "class ineuron:\n",
    "    def student_details(self, name, mail_id, number):\n",
    "        print(name, mail_id, number)"
   ]
  },
  {
   "cell_type": "code",
   "execution_count": 171,
   "id": "5f392a4c",
   "metadata": {},
   "outputs": [],
   "source": [
    "inu = ineuron()"
   ]
  },
  {
   "cell_type": "code",
   "execution_count": 172,
   "id": "8a09e3e5",
   "metadata": {},
   "outputs": [
    {
     "name": "stdout",
     "output_type": "stream",
     "text": [
      "sudh sudh@gmail.com 911478563124\n"
     ]
    }
   ],
   "source": [
    "inu.student_details(\"sudh\", \"sudh@gmail.com\", 911478563124)"
   ]
  },
  {
   "cell_type": "code",
   "execution_count": null,
   "id": "4c79d84e",
   "metadata": {},
   "outputs": [],
   "source": []
  },
  {
   "cell_type": "code",
   "execution_count": 181,
   "id": "9d596d9f",
   "metadata": {},
   "outputs": [],
   "source": [
    "class ineuron1:\n",
    "    def student_details(self, name, mail_id, number):\n",
    "        print(name, mail_id, number)\n",
    "        \n",
    "    @staticmethod\n",
    "    def mentor_class(list_mentor):\n",
    "        print(list_mentor)\n",
    "        \n",
    "    def mentor(self, mentor_list):\n",
    "        print(mentor_list)"
   ]
  },
  {
   "cell_type": "code",
   "execution_count": 182,
   "id": "e16e8589",
   "metadata": {},
   "outputs": [
    {
     "name": "stdout",
     "output_type": "stream",
     "text": [
      "['sudh', 'krish']\n"
     ]
    }
   ],
   "source": [
    "ineuron1.mentor_class([\"sudh\", \"krish\"])"
   ]
  },
  {
   "cell_type": "code",
   "execution_count": 183,
   "id": "bc7023ed",
   "metadata": {},
   "outputs": [],
   "source": [
    "stu1 = ineuron1()"
   ]
  },
  {
   "cell_type": "code",
   "execution_count": 184,
   "id": "7ccdceee",
   "metadata": {},
   "outputs": [],
   "source": [
    "stu2 = ineuron1()"
   ]
  },
  {
   "cell_type": "code",
   "execution_count": 185,
   "id": "bc55d9f7",
   "metadata": {},
   "outputs": [],
   "source": [
    "stu3 = ineuron1()"
   ]
  },
  {
   "cell_type": "code",
   "execution_count": 186,
   "id": "56dbb5ed",
   "metadata": {},
   "outputs": [
    {
     "name": "stdout",
     "output_type": "stream",
     "text": [
      "['sudh', 'kridh']\n"
     ]
    }
   ],
   "source": [
    "stu1.mentor([\"sudh\", \"kridh\"])"
   ]
  },
  {
   "cell_type": "code",
   "execution_count": null,
   "id": "898cbc99",
   "metadata": {},
   "outputs": [],
   "source": []
  },
  {
   "cell_type": "code",
   "execution_count": 187,
   "id": "18185768",
   "metadata": {},
   "outputs": [],
   "source": [
    "class ineuron2 :\n",
    "    \n",
    "    def student_details(self , name , mail_id , number) :\n",
    "        print(name , mail_id, number)\n",
    "        \n",
    "    @staticmethod\n",
    "    def mentor_mail_id(maild_id_mentor) :\n",
    "        print(maild_id_mentor)    \n",
    "        \n",
    "    @staticmethod\n",
    "    def mentor_class(list_mentor) :\n",
    "        ineuron2.mentor_mail_id([\"sudh@gmail.com\" , \"krish@gmail.com\"])\n",
    "        print(list_mentor)\n",
    "        \n",
    "    @classmethod\n",
    "    def class_name(cls):\n",
    "        cls.mentor_class([\"sudh\" , \"krish\"])\n",
    "        \n",
    "        \n",
    "        \n",
    "    def mentor(self ,mentor_list):\n",
    "        print(mentor_list)\n",
    "        self.mentor_class([\"krish\" , \"sudh\"])"
   ]
  },
  {
   "cell_type": "code",
   "execution_count": 188,
   "id": "7bf7c812",
   "metadata": {},
   "outputs": [
    {
     "name": "stdout",
     "output_type": "stream",
     "text": [
      "['sudh@gmail.com', 'krish@gmail.com']\n",
      "['sudh', 'krish']\n"
     ]
    }
   ],
   "source": [
    "ineuron2.mentor_class([\"sudh\", \"krish\"])"
   ]
  },
  {
   "cell_type": "code",
   "execution_count": 190,
   "id": "746b27d5",
   "metadata": {},
   "outputs": [
    {
     "name": "stdout",
     "output_type": "stream",
     "text": [
      "['sudh@gmail.com', 'krish@gmail.com']\n",
      "['sudh', 'krish']\n"
     ]
    }
   ],
   "source": [
    "ineuron2.class_name()"
   ]
  },
  {
   "cell_type": "code",
   "execution_count": 191,
   "id": "5e84bfd2",
   "metadata": {},
   "outputs": [],
   "source": [
    "ineu = ineuron2()"
   ]
  },
  {
   "cell_type": "code",
   "execution_count": 192,
   "id": "f71ad312",
   "metadata": {},
   "outputs": [
    {
     "name": "stdout",
     "output_type": "stream",
     "text": [
      "['sudh@gmail.com', 'krish@gmail.com']\n",
      "['sudh', 'krish']\n"
     ]
    }
   ],
   "source": [
    "ineu.class_name()"
   ]
  },
  {
   "cell_type": "code",
   "execution_count": 193,
   "id": "eff99acd",
   "metadata": {},
   "outputs": [
    {
     "name": "stdout",
     "output_type": "stream",
     "text": [
      "['krish', 'sudh']\n",
      "['sudh@gmail.com', 'krish@gmail.com']\n",
      "['krish', 'sudh']\n"
     ]
    }
   ],
   "source": [
    "ineu.mentor([\"krish\", \"sudh\"])"
   ]
  },
  {
   "cell_type": "markdown",
   "id": "c1592490",
   "metadata": {},
   "source": [
    "#### Special (Magic Dunder) Methods"
   ]
  },
  {
   "cell_type": "code",
   "execution_count": 194,
   "id": "fb7e614d",
   "metadata": {},
   "outputs": [
    {
     "data": {
      "text/plain": [
       "['__abs__',\n",
       " '__add__',\n",
       " '__and__',\n",
       " '__bool__',\n",
       " '__ceil__',\n",
       " '__class__',\n",
       " '__delattr__',\n",
       " '__dir__',\n",
       " '__divmod__',\n",
       " '__doc__',\n",
       " '__eq__',\n",
       " '__float__',\n",
       " '__floor__',\n",
       " '__floordiv__',\n",
       " '__format__',\n",
       " '__ge__',\n",
       " '__getattribute__',\n",
       " '__getnewargs__',\n",
       " '__gt__',\n",
       " '__hash__',\n",
       " '__index__',\n",
       " '__init__',\n",
       " '__init_subclass__',\n",
       " '__int__',\n",
       " '__invert__',\n",
       " '__le__',\n",
       " '__lshift__',\n",
       " '__lt__',\n",
       " '__mod__',\n",
       " '__mul__',\n",
       " '__ne__',\n",
       " '__neg__',\n",
       " '__new__',\n",
       " '__or__',\n",
       " '__pos__',\n",
       " '__pow__',\n",
       " '__radd__',\n",
       " '__rand__',\n",
       " '__rdivmod__',\n",
       " '__reduce__',\n",
       " '__reduce_ex__',\n",
       " '__repr__',\n",
       " '__rfloordiv__',\n",
       " '__rlshift__',\n",
       " '__rmod__',\n",
       " '__rmul__',\n",
       " '__ror__',\n",
       " '__round__',\n",
       " '__rpow__',\n",
       " '__rrshift__',\n",
       " '__rshift__',\n",
       " '__rsub__',\n",
       " '__rtruediv__',\n",
       " '__rxor__',\n",
       " '__setattr__',\n",
       " '__sizeof__',\n",
       " '__str__',\n",
       " '__sub__',\n",
       " '__subclasshook__',\n",
       " '__truediv__',\n",
       " '__trunc__',\n",
       " '__xor__',\n",
       " 'as_integer_ratio',\n",
       " 'bit_length',\n",
       " 'conjugate',\n",
       " 'denominator',\n",
       " 'from_bytes',\n",
       " 'imag',\n",
       " 'numerator',\n",
       " 'real',\n",
       " 'to_bytes']"
      ]
     },
     "execution_count": 194,
     "metadata": {},
     "output_type": "execute_result"
    }
   ],
   "source": [
    "dir(int)"
   ]
  },
  {
   "cell_type": "code",
   "execution_count": 195,
   "id": "cf6d7565",
   "metadata": {},
   "outputs": [
    {
     "data": {
      "text/plain": [
       "['__add__',\n",
       " '__class__',\n",
       " '__contains__',\n",
       " '__delattr__',\n",
       " '__dir__',\n",
       " '__doc__',\n",
       " '__eq__',\n",
       " '__format__',\n",
       " '__ge__',\n",
       " '__getattribute__',\n",
       " '__getitem__',\n",
       " '__getnewargs__',\n",
       " '__gt__',\n",
       " '__hash__',\n",
       " '__init__',\n",
       " '__init_subclass__',\n",
       " '__iter__',\n",
       " '__le__',\n",
       " '__len__',\n",
       " '__lt__',\n",
       " '__mod__',\n",
       " '__mul__',\n",
       " '__ne__',\n",
       " '__new__',\n",
       " '__reduce__',\n",
       " '__reduce_ex__',\n",
       " '__repr__',\n",
       " '__rmod__',\n",
       " '__rmul__',\n",
       " '__setattr__',\n",
       " '__sizeof__',\n",
       " '__str__',\n",
       " '__subclasshook__',\n",
       " 'capitalize',\n",
       " 'casefold',\n",
       " 'center',\n",
       " 'count',\n",
       " 'encode',\n",
       " 'endswith',\n",
       " 'expandtabs',\n",
       " 'find',\n",
       " 'format',\n",
       " 'format_map',\n",
       " 'index',\n",
       " 'isalnum',\n",
       " 'isalpha',\n",
       " 'isascii',\n",
       " 'isdecimal',\n",
       " 'isdigit',\n",
       " 'isidentifier',\n",
       " 'islower',\n",
       " 'isnumeric',\n",
       " 'isprintable',\n",
       " 'isspace',\n",
       " 'istitle',\n",
       " 'isupper',\n",
       " 'join',\n",
       " 'ljust',\n",
       " 'lower',\n",
       " 'lstrip',\n",
       " 'maketrans',\n",
       " 'partition',\n",
       " 'removeprefix',\n",
       " 'removesuffix',\n",
       " 'replace',\n",
       " 'rfind',\n",
       " 'rindex',\n",
       " 'rjust',\n",
       " 'rpartition',\n",
       " 'rsplit',\n",
       " 'rstrip',\n",
       " 'split',\n",
       " 'splitlines',\n",
       " 'startswith',\n",
       " 'strip',\n",
       " 'swapcase',\n",
       " 'title',\n",
       " 'translate',\n",
       " 'upper',\n",
       " 'zfill']"
      ]
     },
     "execution_count": 195,
     "metadata": {},
     "output_type": "execute_result"
    }
   ],
   "source": [
    "dir(str)"
   ]
  },
  {
   "cell_type": "code",
   "execution_count": null,
   "id": "b1fb9fa1",
   "metadata": {},
   "outputs": [],
   "source": []
  },
  {
   "cell_type": "code",
   "execution_count": 196,
   "id": "15cd5e42",
   "metadata": {},
   "outputs": [],
   "source": [
    "a=100"
   ]
  },
  {
   "cell_type": "code",
   "execution_count": 197,
   "id": "0d67ed2f",
   "metadata": {},
   "outputs": [
    {
     "data": {
      "text/plain": [
       "105"
      ]
     },
     "execution_count": 197,
     "metadata": {},
     "output_type": "execute_result"
    }
   ],
   "source": [
    "a + 5"
   ]
  },
  {
   "cell_type": "code",
   "execution_count": 198,
   "id": "ec98a43d",
   "metadata": {},
   "outputs": [
    {
     "data": {
      "text/plain": [
       "105"
      ]
     },
     "execution_count": 198,
     "metadata": {},
     "output_type": "execute_result"
    }
   ],
   "source": [
    "a.__add__(5)"
   ]
  },
  {
   "cell_type": "code",
   "execution_count": null,
   "id": "1796bb52",
   "metadata": {},
   "outputs": [],
   "source": []
  },
  {
   "cell_type": "code",
   "execution_count": 205,
   "id": "1e867c62",
   "metadata": {},
   "outputs": [],
   "source": [
    "class ineuron :\n",
    "    \n",
    "    def __new__(cls) : \n",
    "        print(\"this is my new\")\n",
    "        \n",
    "    \n",
    "    def __init__(self):\n",
    "        print(\"this is my init\")\n",
    "        \n",
    "        self.mobile_number = 92234242"
   ]
  },
  {
   "cell_type": "code",
   "execution_count": 206,
   "id": "27d9584a",
   "metadata": {},
   "outputs": [
    {
     "name": "stdout",
     "output_type": "stream",
     "text": [
      "this is my new\n"
     ]
    }
   ],
   "source": [
    "inu = ineuron()"
   ]
  },
  {
   "cell_type": "code",
   "execution_count": 207,
   "id": "fec4ba25",
   "metadata": {},
   "outputs": [
    {
     "ename": "AttributeError",
     "evalue": "'NoneType' object has no attribute 'mobile_number'",
     "output_type": "error",
     "traceback": [
      "\u001b[1;31m---------------------------------------------------------------------------\u001b[0m",
      "\u001b[1;31mAttributeError\u001b[0m                            Traceback (most recent call last)",
      "\u001b[1;32m~\\AppData\\Local\\Temp/ipykernel_15372/2163750883.py\u001b[0m in \u001b[0;36m<module>\u001b[1;34m\u001b[0m\n\u001b[1;32m----> 1\u001b[1;33m \u001b[0minu\u001b[0m\u001b[1;33m.\u001b[0m\u001b[0mmobile_number\u001b[0m\u001b[1;33m\u001b[0m\u001b[1;33m\u001b[0m\u001b[0m\n\u001b[0m",
      "\u001b[1;31mAttributeError\u001b[0m: 'NoneType' object has no attribute 'mobile_number'"
     ]
    }
   ],
   "source": [
    "inu.mobile_number"
   ]
  },
  {
   "cell_type": "code",
   "execution_count": null,
   "id": "a26352df",
   "metadata": {},
   "outputs": [],
   "source": []
  },
  {
   "cell_type": "code",
   "execution_count": 208,
   "id": "36db8e60",
   "metadata": {},
   "outputs": [],
   "source": [
    "class ineuron1 :\n",
    "\n",
    "  \n",
    "    def __init__(self):\n",
    "        \n",
    "        \n",
    "        self.mobile_number = 92234242\n",
    "        \n",
    "    def __str__(self) : \n",
    "        return \"this is my magic call of str\""
   ]
  },
  {
   "cell_type": "code",
   "execution_count": 209,
   "id": "c7ef3f4f",
   "metadata": {},
   "outputs": [],
   "source": [
    "inu1 = ineuron1()"
   ]
  },
  {
   "cell_type": "code",
   "execution_count": 212,
   "id": "159a36b8",
   "metadata": {},
   "outputs": [
    {
     "data": {
      "text/plain": [
       "<__main__.ineuron1 at 0x16fcaf23160>"
      ]
     },
     "execution_count": 212,
     "metadata": {},
     "output_type": "execute_result"
    }
   ],
   "source": [
    "inu1"
   ]
  },
  {
   "cell_type": "code",
   "execution_count": 213,
   "id": "ce592bac",
   "metadata": {},
   "outputs": [
    {
     "name": "stdout",
     "output_type": "stream",
     "text": [
      "this is my magic call of str\n"
     ]
    }
   ],
   "source": [
    "print(inu1)"
   ]
  },
  {
   "cell_type": "markdown",
   "id": "e39acb2e",
   "metadata": {},
   "source": [
    "#### Property Decorators Getters, Setters, And Deletes"
   ]
  },
  {
   "cell_type": "code",
   "execution_count": 214,
   "id": "04005cf2",
   "metadata": {},
   "outputs": [],
   "source": [
    "class ineuron :\n",
    "    \n",
    "    def __init__(self , course_price , coruse_name):\n",
    "        \n",
    "        self.__course_price = course_price\n",
    "        self.course_name = coruse_name\n",
    "        \n",
    "    @property\n",
    "    def course_price_access(self) : \n",
    "        return self.__course_price\n",
    "    \n",
    "    @course_price_access.setter\n",
    "    def course_price_set(self , price ):\n",
    "        if price <= 3500:\n",
    "            pass\n",
    "        else :\n",
    "            self.__course_price = price\n",
    "            \n",
    "    @course_price_access.deleter\n",
    "    def delete_course_price(self) : \n",
    "        del self.__course_price"
   ]
  },
  {
   "cell_type": "code",
   "execution_count": 215,
   "id": "19431e51",
   "metadata": {},
   "outputs": [],
   "source": [
    "inu = ineuron(3500, \"data science\")"
   ]
  },
  {
   "cell_type": "code",
   "execution_count": 216,
   "id": "f1da00ea",
   "metadata": {},
   "outputs": [
    {
     "data": {
      "text/plain": [
       "3500"
      ]
     },
     "execution_count": 216,
     "metadata": {},
     "output_type": "execute_result"
    }
   ],
   "source": [
    "inu.course_price_access"
   ]
  },
  {
   "cell_type": "code",
   "execution_count": 218,
   "id": "7b47eed5",
   "metadata": {},
   "outputs": [],
   "source": [
    "del inu.delete_course_price"
   ]
  },
  {
   "cell_type": "code",
   "execution_count": 219,
   "id": "501ef376",
   "metadata": {},
   "outputs": [
    {
     "ename": "AttributeError",
     "evalue": "'ineuron' object has no attribute '_ineuron__course_price'",
     "output_type": "error",
     "traceback": [
      "\u001b[1;31m---------------------------------------------------------------------------\u001b[0m",
      "\u001b[1;31mAttributeError\u001b[0m                            Traceback (most recent call last)",
      "\u001b[1;32m~\\AppData\\Local\\Temp/ipykernel_15372/66700309.py\u001b[0m in \u001b[0;36m<module>\u001b[1;34m\u001b[0m\n\u001b[1;32m----> 1\u001b[1;33m \u001b[0minu\u001b[0m\u001b[1;33m.\u001b[0m\u001b[0mcourse_price_access\u001b[0m\u001b[1;33m\u001b[0m\u001b[1;33m\u001b[0m\u001b[0m\n\u001b[0m",
      "\u001b[1;32m~\\AppData\\Local\\Temp/ipykernel_15372/230447528.py\u001b[0m in \u001b[0;36mcourse_price_access\u001b[1;34m(self)\u001b[0m\n\u001b[0;32m      8\u001b[0m     \u001b[1;33m@\u001b[0m\u001b[0mproperty\u001b[0m\u001b[1;33m\u001b[0m\u001b[1;33m\u001b[0m\u001b[0m\n\u001b[0;32m      9\u001b[0m     \u001b[1;32mdef\u001b[0m \u001b[0mcourse_price_access\u001b[0m\u001b[1;33m(\u001b[0m\u001b[0mself\u001b[0m\u001b[1;33m)\u001b[0m \u001b[1;33m:\u001b[0m\u001b[1;33m\u001b[0m\u001b[1;33m\u001b[0m\u001b[0m\n\u001b[1;32m---> 10\u001b[1;33m         \u001b[1;32mreturn\u001b[0m \u001b[0mself\u001b[0m\u001b[1;33m.\u001b[0m\u001b[0m__course_price\u001b[0m\u001b[1;33m\u001b[0m\u001b[1;33m\u001b[0m\u001b[0m\n\u001b[0m\u001b[0;32m     11\u001b[0m \u001b[1;33m\u001b[0m\u001b[0m\n\u001b[0;32m     12\u001b[0m     \u001b[1;33m@\u001b[0m\u001b[0mcourse_price_access\u001b[0m\u001b[1;33m.\u001b[0m\u001b[0msetter\u001b[0m\u001b[1;33m\u001b[0m\u001b[1;33m\u001b[0m\u001b[0m\n",
      "\u001b[1;31mAttributeError\u001b[0m: 'ineuron' object has no attribute '_ineuron__course_price'"
     ]
    }
   ],
   "source": [
    "inu.course_price_access"
   ]
  },
  {
   "cell_type": "code",
   "execution_count": 221,
   "id": "81de45bf",
   "metadata": {},
   "outputs": [],
   "source": [
    "inu = ineuron(3500, \"data science\")"
   ]
  },
  {
   "cell_type": "code",
   "execution_count": 222,
   "id": "43b28e77",
   "metadata": {},
   "outputs": [
    {
     "data": {
      "text/plain": [
       "3500"
      ]
     },
     "execution_count": 222,
     "metadata": {},
     "output_type": "execute_result"
    }
   ],
   "source": [
    "inu.course_price_access"
   ]
  },
  {
   "cell_type": "code",
   "execution_count": 223,
   "id": "136378c6",
   "metadata": {},
   "outputs": [],
   "source": [
    "inu.course_price_set = 4500"
   ]
  },
  {
   "cell_type": "code",
   "execution_count": 224,
   "id": "f2a1dfe9",
   "metadata": {},
   "outputs": [
    {
     "data": {
      "text/plain": [
       "4500"
      ]
     },
     "execution_count": 224,
     "metadata": {},
     "output_type": "execute_result"
    }
   ],
   "source": [
    "inu.course_price_access"
   ]
  },
  {
   "cell_type": "code",
   "execution_count": 225,
   "id": "f1d05f00",
   "metadata": {},
   "outputs": [
    {
     "data": {
      "text/plain": [
       "'data science'"
      ]
     },
     "execution_count": 225,
     "metadata": {},
     "output_type": "execute_result"
    }
   ],
   "source": [
    "inu.course_name"
   ]
  },
  {
   "cell_type": "code",
   "execution_count": null,
   "id": "3befca44",
   "metadata": {},
   "outputs": [],
   "source": []
  }
 ],
 "metadata": {
  "kernelspec": {
   "display_name": "Python 3 (ipykernel)",
   "language": "python",
   "name": "python3"
  },
  "language_info": {
   "codemirror_mode": {
    "name": "ipython",
    "version": 3
   },
   "file_extension": ".py",
   "mimetype": "text/x-python",
   "name": "python",
   "nbconvert_exporter": "python",
   "pygments_lexer": "ipython3",
   "version": "3.9.7"
  }
 },
 "nbformat": 4,
 "nbformat_minor": 5
}
