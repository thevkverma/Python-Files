{
 "cells": [
  {
   "cell_type": "markdown",
   "id": "3f0fa26c",
   "metadata": {},
   "source": [
    "#### Logging Debugger"
   ]
  },
  {
   "cell_type": "code",
   "execution_count": 2,
   "id": "557b8ac4",
   "metadata": {},
   "outputs": [
    {
     "name": "stdout",
     "output_type": "stream",
     "text": [
      "this is my print\n"
     ]
    }
   ],
   "source": [
    "print(\"this is my print\")"
   ]
  },
  {
   "cell_type": "code",
   "execution_count": 3,
   "id": "7e71e179",
   "metadata": {},
   "outputs": [],
   "source": [
    "import logging"
   ]
  },
  {
   "cell_type": "code",
   "execution_count": 4,
   "id": "314277de",
   "metadata": {},
   "outputs": [],
   "source": [
    "logging.basicConfig(filename = \"test.log\",level = logging.INFO)"
   ]
  },
  {
   "cell_type": "code",
   "execution_count": 5,
   "id": "edb41010",
   "metadata": {},
   "outputs": [],
   "source": [
    "logging.info(\"log this line of executation\")"
   ]
  },
  {
   "cell_type": "code",
   "execution_count": 6,
   "id": "23f2a544",
   "metadata": {},
   "outputs": [],
   "source": [
    "logging.info(\"this is my print\")"
   ]
  },
  {
   "cell_type": "markdown",
   "id": "af03d898",
   "metadata": {},
   "source": [
    "levels are-\n",
    "\n",
    "NOTSET\n",
    "\n",
    "DEBUG\n",
    "\n",
    "INFO\n",
    "\n",
    "WARNING\n",
    "\n",
    "ERROR\n",
    "\n",
    "CRITICAL"
   ]
  },
  {
   "cell_type": "code",
   "execution_count": 7,
   "id": "61074310",
   "metadata": {},
   "outputs": [],
   "source": [
    "logging.debug(\"this is my message\")"
   ]
  },
  {
   "cell_type": "code",
   "execution_count": null,
   "id": "673bc7f1",
   "metadata": {},
   "outputs": [],
   "source": []
  },
  {
   "cell_type": "code",
   "execution_count": 10,
   "id": "1f9c4006",
   "metadata": {},
   "outputs": [],
   "source": [
    "logging.warning(\"this is my warning message\")"
   ]
  },
  {
   "cell_type": "code",
   "execution_count": 11,
   "id": "e7e86f23",
   "metadata": {},
   "outputs": [],
   "source": [
    "logging.error(\"this is my error message\")"
   ]
  },
  {
   "cell_type": "code",
   "execution_count": 12,
   "id": "99f2ba40",
   "metadata": {},
   "outputs": [],
   "source": [
    "logging.critical(\"this is my critical message\")"
   ]
  },
  {
   "cell_type": "code",
   "execution_count": 13,
   "id": "fa010475",
   "metadata": {},
   "outputs": [],
   "source": [
    "logging.shutdown()"
   ]
  },
  {
   "cell_type": "code",
   "execution_count": 1,
   "id": "f5fe0ebe",
   "metadata": {},
   "outputs": [],
   "source": [
    "import logging"
   ]
  },
  {
   "cell_type": "code",
   "execution_count": 2,
   "id": "19c951a3",
   "metadata": {},
   "outputs": [],
   "source": [
    "logging.basicConfig(filename = \"testlog.log\" , level =logging.DEBUG , format = '%(asctime)s %(message)s' )"
   ]
  },
  {
   "cell_type": "code",
   "execution_count": 3,
   "id": "47704596",
   "metadata": {},
   "outputs": [],
   "source": [
    "logging.info(\"this is my info logging \")\n",
    "logging.error(\"this is my error logging \")\n",
    "logging.critical(\"this is error critical logging \")"
   ]
  },
  {
   "cell_type": "code",
   "execution_count": 4,
   "id": "2fa4148d",
   "metadata": {},
   "outputs": [],
   "source": [
    "logging.shutdown()"
   ]
  },
  {
   "cell_type": "code",
   "execution_count": 3,
   "id": "1ec2a269",
   "metadata": {},
   "outputs": [],
   "source": [
    "import logging"
   ]
  },
  {
   "cell_type": "code",
   "execution_count": 4,
   "id": "2ec5630f",
   "metadata": {},
   "outputs": [],
   "source": [
    "logging.basicConfig(filename = \"testlog1.log\" , level = logging.DEBUG , format = '%(asctime)s %(name)s %(levelname)s  %(message)s')"
   ]
  },
  {
   "cell_type": "code",
   "execution_count": 5,
   "id": "efaaf32c",
   "metadata": {},
   "outputs": [],
   "source": [
    "logging.info(\"this is my info logging \")\n",
    "logging.error(\"this is my error logging \")\n",
    "logging.critical(\"this is error critical logging \")"
   ]
  },
  {
   "cell_type": "code",
   "execution_count": null,
   "id": "61558fe3",
   "metadata": {},
   "outputs": [],
   "source": []
  },
  {
   "cell_type": "code",
   "execution_count": 6,
   "id": "c4907745",
   "metadata": {},
   "outputs": [],
   "source": [
    "l = [1,2,3,34,4,[2,3,4] , \"sudh\" , \"kumar\"]"
   ]
  },
  {
   "cell_type": "code",
   "execution_count": 7,
   "id": "9a0b5ba3",
   "metadata": {},
   "outputs": [],
   "source": [
    "l1_int = []\n",
    "l2_str = []\n",
    "for i in l :\n",
    "    logging.info(\"we are iterating throuhg our list and our local var is {}\".format(l ))\n",
    "    if type(i ) == list :\n",
    "        logging.info(\"i am inside if statement and i am trying to check list type\" + str(i))\n",
    "        for j in i :\n",
    "            logging.info(\"i am in anothe for loop for list inside list element \"+ str(j))\n",
    "            if type(j) == int :\n",
    "                logging.info(\"i am inside if statement\")\n",
    "                l1_int.append(j)\n",
    "    elif type(i) == int :\n",
    "        l1_int.append(i)\n",
    "    else :\n",
    "        if type(i) == str :\n",
    "            l2_str.append(i)\n",
    "logging.info(\"my final result for int is {l1} and str is {l2}\".format(l1 =l1_int , l2 = l2_str ))"
   ]
  },
  {
   "cell_type": "code",
   "execution_count": 8,
   "id": "e5d3a782",
   "metadata": {},
   "outputs": [
    {
     "data": {
      "text/plain": [
       "[1, 2, 3, 34, 4, 2, 3, 4]"
      ]
     },
     "execution_count": 8,
     "metadata": {},
     "output_type": "execute_result"
    }
   ],
   "source": [
    "l1_int"
   ]
  },
  {
   "cell_type": "code",
   "execution_count": 9,
   "id": "fc95abdd",
   "metadata": {},
   "outputs": [
    {
     "data": {
      "text/plain": [
       "['sudh', 'kumar']"
      ]
     },
     "execution_count": 9,
     "metadata": {},
     "output_type": "execute_result"
    }
   ],
   "source": [
    "l2_str"
   ]
  },
  {
   "cell_type": "code",
   "execution_count": null,
   "id": "16e4153b",
   "metadata": {},
   "outputs": [],
   "source": []
  }
 ],
 "metadata": {
  "kernelspec": {
   "display_name": "Python 3 (ipykernel)",
   "language": "python",
   "name": "python3"
  },
  "language_info": {
   "codemirror_mode": {
    "name": "ipython",
    "version": 3
   },
   "file_extension": ".py",
   "mimetype": "text/x-python",
   "name": "python",
   "nbconvert_exporter": "python",
   "pygments_lexer": "ipython3",
   "version": "3.9.7"
  }
 },
 "nbformat": 4,
 "nbformat_minor": 5
}
